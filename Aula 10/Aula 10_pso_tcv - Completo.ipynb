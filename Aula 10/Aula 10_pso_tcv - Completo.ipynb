{
 "cells": [
  {
   "cell_type": "markdown",
   "id": "d8883047",
   "metadata": {},
   "source": [
    "# PSO - Cornfield Vector "
   ]
  },
  {
   "cell_type": "markdown",
   "id": "4010d522",
   "metadata": {},
   "source": [
    "    - Simular geograficamente o comportamento das espécies\n",
    "    - Lembrança da melhor posição individual\n",
    "    - Lembrança da melhor posição global"
   ]
  },
  {
   "cell_type": "markdown",
   "id": "d7a9b06a",
   "metadata": {},
   "source": [
    "## Classe da função a ser minimizada"
   ]
  },
  {
   "cell_type": "markdown",
   "id": "ed119f3e",
   "metadata": {},
   "source": [
    "### Minimizar X^2 + Y^2"
   ]
  },
  {
   "cell_type": "code",
   "execution_count": 6,
   "id": "1c2eb310",
   "metadata": {},
   "outputs": [],
   "source": [
    "class Utils:\n",
    "    \n",
    "    def function(position):\n",
    "        '''\n",
    "        Calculo da função\n",
    "        '''\n",
    "        position = np.array(position)\n",
    "        result = sum(position**2)\n",
    "            \n",
    "        return result"
   ]
  },
  {
   "cell_type": "markdown",
   "id": "1aeefd41",
   "metadata": {},
   "source": [
    "## Classe das Partículas"
   ]
  },
  {
   "cell_type": "code",
   "execution_count": 7,
   "id": "ffe2785f",
   "metadata": {},
   "outputs": [],
   "source": [
    "import random\n",
    "import numpy as np\n",
    "\n",
    "class Particle:\n",
    "    '''\n",
    "    Construtor\n",
    "    '''\n",
    "    def __init__(self, num_dimensions, bounds):\n",
    "        self.num_dimensions = num_dimensions\n",
    "        self.position = []\n",
    "        self.velocity = []\n",
    "        self.pbest_pos = [] # Melhor posição histórica da particula\n",
    "        self.pbest_err = -1 # Melhor erro que a partícula teve\n",
    "        self.err = -1 # Erro atual da partícula\n",
    "\n",
    "        for i in range(0, self.num_dimensions):\n",
    "            self.position.append(random.uniform(bounds[i][0], bounds[i][1]))\n",
    "            self.velocity.append(random.uniform(bounds[i][0], bounds[i][1]))\n",
    "\n",
    "    def evaluate(self, cost_function):\n",
    "        '''\n",
    "        Função que avalia e compara a proximidade de cada uma das partículas em relação ao objetivo\n",
    "        '''\n",
    "        self.err = cost_function(self.position)\n",
    "\n",
    "        if self.err < self.pbest_err or self.pbest_err == -1:\n",
    "            self.pbest_err = self.err\n",
    "            self.pbest_pos = self.position\n",
    "\n",
    "    def update_velocity(self, gbest_pos):\n",
    "        '''\n",
    "        Atualiza a velocidade com base em um \"fator de craziness\", o pbest e o gbest\n",
    "        '''\n",
    "        w = 0.5 #inércia\n",
    "        c1 = 1\n",
    "        c2 = 1\n",
    "\n",
    "        for i in range(0, self.num_dimensions):\n",
    "            r1 = random.random()\n",
    "            r2 = random.random()\n",
    "\n",
    "            vel_cognitive = c1 * r1 * (self.pbest_pos[i] - self.position[i])\n",
    "            vel_social = c2 * r2 * (gbest_pos[i] - self.position[i])\n",
    "\n",
    "            self.velocity[i] = w * self.velocity[i] + vel_cognitive + vel_social\n",
    "\n",
    "    def update_position(self, bounds):\n",
    "        '''\n",
    "        Atualiza a posição de cada uma das partículas\n",
    "        '''\n",
    "        for i in range(0, self.num_dimensions):\n",
    "            self.position[i] = self.position[i] + self.velocity[i]\n",
    "\n",
    "            if self.position[i] < bounds[i][0]:\n",
    "                self.position[i] = bounds[i][0]\n",
    "\n",
    "            if self.position[i] > bounds[i][1]:\n",
    "                self.position[i] = bounds[i][1]\n",
    "            "
   ]
  },
  {
   "cell_type": "markdown",
   "id": "2aad640e",
   "metadata": {},
   "source": [
    "## Classe PSO"
   ]
  },
  {
   "cell_type": "code",
   "execution_count": 8,
   "id": "e8bce13a",
   "metadata": {},
   "outputs": [],
   "source": [
    "class PSO:\n",
    "\n",
    "    def __init__(self, num_dimensions, cost_function, bounds, num_particles, max_iterations):\n",
    "        '''\n",
    "        Construtor\n",
    "        '''\n",
    "        gbest_err = -1\n",
    "        gbest_pos = []\n",
    "        \n",
    "        PlotUtils.start_plot()\n",
    "        \n",
    "        swarm = []\n",
    "        for i in range(0, num_particles):\n",
    "            swarm.append(Particle(num_dimensions, bounds))\n",
    "\n",
    "        i = 0\n",
    "        while i < max_iterations:\n",
    "            print(f\"i = {i}\\tgbest_pos = {gbest_pos}\\tgbest_err = {gbest_err}\")\n",
    "\n",
    "            for j in range(0, num_particles):\n",
    "                swarm[j].evaluate(cost_function)\n",
    "\n",
    "                if swarm[j].err < gbest_err  or gbest_err == -1:\n",
    "                    gbest_pos = list(swarm[j].position)\n",
    "                    gbest_err = float(swarm[j].err)\n",
    "\n",
    "            for j in range(0, num_particles):\n",
    "                swarm[j].update_velocity(gbest_pos)\n",
    "                swarm[j].update_position(bounds)\n",
    "\n",
    "                PlotUtils.plot_particle(swarm[j])\n",
    "            \n",
    "            PlotUtils.plot_iteration(i)\n",
    "            i += 1\n",
    "\n",
    "\n",
    "        PlotUtils.save()\n",
    "        print(f\"i = {i}\\tgbest_pos = {gbest_pos}\\tgbest_err = {gbest_err}\")"
   ]
  },
  {
   "cell_type": "markdown",
   "id": "a65f76dc",
   "metadata": {},
   "source": [
    "## Classe de Plot"
   ]
  },
  {
   "cell_type": "code",
   "execution_count": 9,
   "id": "ec5ceaf4",
   "metadata": {},
   "outputs": [],
   "source": [
    "from matplotlib import pyplot as plt\n",
    "from PIL import Image\n",
    "import glob\n",
    "import os\n",
    "import shutil\n",
    "\n",
    "class PlotUtils:\n",
    "\n",
    "    directory = \"pso_plots\"\n",
    "    filename = 'pso_cornfield.gif'\n",
    "\n",
    "    @staticmethod\n",
    "    def start_plot():\n",
    "        if os.path.exists(PlotUtils.directory):\n",
    "            shutil.rmtree(PlotUtils.directory)\n",
    "        if not os.path.exists(PlotUtils.directory):\n",
    "            os.makedirs(PlotUtils.directory)\n",
    "\n",
    "    @staticmethod\n",
    "    def plot_particle(particle):\n",
    "        plt.scatter(particle.position[0], particle.position[1])\n",
    "\n",
    "    @staticmethod\n",
    "    def plot_iteration(i):\n",
    "        plt.title(f\"PSO {i}\")\n",
    "        plt.xlim(-20, 20)\n",
    "        plt.ylim(-20, 20)\n",
    "        plt.xlabel('x[0]')\n",
    "        plt.ylabel('x[1]')\n",
    "        iteration = str(i).zfill(5)\n",
    "        plt.savefig(f\"pso_plots/iteration_{iteration}.png\", facecolor = \"white\", dpi = 75)\n",
    "        plt.close()\n",
    "\n",
    "    @staticmethod\n",
    "    def save():\n",
    "        images = [Image.open(f) for f in sorted(glob.glob(PlotUtils.directory+\"/*\"))]\n",
    "        img = images[0]\n",
    "        img.save(fp=PlotUtils.filename, format='GIF', append_images=images, save_all=True, duration=200, loop=0)\n",
    "        if os.path.exists(PlotUtils.directory):\n",
    "            shutil.rmtree(PlotUtils.directory)"
   ]
  },
  {
   "cell_type": "markdown",
   "id": "b20c0807",
   "metadata": {},
   "source": [
    "## Main"
   ]
  },
  {
   "cell_type": "code",
   "execution_count": 10,
   "id": "69cfd27a",
   "metadata": {},
   "outputs": [
    {
     "name": "stdout",
     "output_type": "stream",
     "text": [
      "i = 0\tgbest_pos = []\tgbest_err = -1\n"
     ]
    },
    {
     "name": "stdout",
     "output_type": "stream",
     "text": [
      "i = 1\tgbest_pos = [-0.1310643102681297, 0.8230333377466952]\tgbest_err = 0.6945617284685263\n",
      "i = 2\tgbest_pos = [-0.1310643102681297, 0.8230333377466952]\tgbest_err = 0.6945617284685263\n",
      "i = 3\tgbest_pos = [0.40804485639970345, -0.3050066735469583]\tgbest_err = 0.2595296757424354\n",
      "i = 4\tgbest_pos = [0.40804485639970345, -0.3050066735469583]\tgbest_err = 0.2595296757424354\n",
      "i = 5\tgbest_pos = [-0.03192176977677841, 0.2850161630869019]\tgbest_err = 0.08225321260646112\n",
      "i = 6\tgbest_pos = [-0.13207239721613395, 0.2449253026403373]\tgbest_err = 0.07743152197987709\n",
      "i = 7\tgbest_pos = [-0.01920251196613776, -0.031141744292040086]\tgbest_err = 0.001338544703360475\n",
      "i = 8\tgbest_pos = [-0.01920251196613776, -0.031141744292040086]\tgbest_err = 0.001338544703360475\n",
      "i = 9\tgbest_pos = [-0.01920251196613776, -0.031141744292040086]\tgbest_err = 0.001338544703360475\n",
      "i = 10\tgbest_pos = [0.009103206470018166, 0.03243859790987025]\tgbest_err = 0.001135131002394019\n",
      "i = 11\tgbest_pos = [0.009103206470018166, 0.03243859790987025]\tgbest_err = 0.001135131002394019\n",
      "i = 12\tgbest_pos = [0.009103206470018166, 0.03243859790987025]\tgbest_err = 0.001135131002394019\n",
      "i = 13\tgbest_pos = [-0.003949132738502822, -0.018693999902689995]\tgbest_err = 0.00036506128174808837\n",
      "i = 14\tgbest_pos = [-0.00018184507488527846, -0.006591285296480964]\tgbest_err = 4.3478109490866175e-05\n",
      "i = 15\tgbest_pos = [-0.00018184507488527846, -0.006591285296480964]\tgbest_err = 4.3478109490866175e-05\n",
      "i = 16\tgbest_pos = [-0.00018184507488527846, -0.006591285296480964]\tgbest_err = 4.3478109490866175e-05\n",
      "i = 17\tgbest_pos = [-0.002170115586549469, 0.0036114605092491883]\tgbest_err = 1.7752048668851354e-05\n",
      "i = 18\tgbest_pos = [0.0005739303210043779, -0.00025817054705579157]\tgbest_err = 3.9604804473527495e-07\n",
      "i = 19\tgbest_pos = [0.0005739303210043779, -0.00025817054705579157]\tgbest_err = 3.9604804473527495e-07\n",
      "i = 20\tgbest_pos = [0.0005739303210043779, -0.00025817054705579157]\tgbest_err = 3.9604804473527495e-07\n",
      "i = 21\tgbest_pos = [0.0005739303210043779, -0.00025817054705579157]\tgbest_err = 3.9604804473527495e-07\n",
      "i = 22\tgbest_pos = [0.0005739303210043779, -0.00025817054705579157]\tgbest_err = 3.9604804473527495e-07\n",
      "i = 23\tgbest_pos = [-6.10431164343732e-05, -0.00021332062791359473]\tgbest_err = 4.923195235747078e-08\n",
      "i = 24\tgbest_pos = [-6.10431164343732e-05, -0.00021332062791359473]\tgbest_err = 4.923195235747078e-08\n",
      "i = 25\tgbest_pos = [-6.10431164343732e-05, -0.00021332062791359473]\tgbest_err = 4.923195235747078e-08\n",
      "i = 26\tgbest_pos = [0.00011332238125328817, -0.00010953547204727021]\tgbest_err = 2.4839981729533913e-08\n",
      "i = 27\tgbest_pos = [0.00011332238125328817, -0.00010953547204727021]\tgbest_err = 2.4839981729533913e-08\n",
      "i = 28\tgbest_pos = [3.014905996705339e-05, 7.972707537170533e-05]\tgbest_err = 7.265372364222564e-09\n",
      "i = 29\tgbest_pos = [3.014905996705339e-05, 7.972707537170533e-05]\tgbest_err = 7.265372364222564e-09\n",
      "i = 30\tgbest_pos = [-6.702619690575145e-05, 2.0054764463571962e-05]\tgbest_err = 4.894704649337913e-09\n",
      "i = 31\tgbest_pos = [-6.012651328333508e-05, -1.653591598403919e-05]\tgbest_err = 3.888634117042272e-09\n",
      "i = 32\tgbest_pos = [4.810830125364702e-05, -6.661919170786613e-07]\tgbest_err = 2.314852461182037e-09\n",
      "i = 33\tgbest_pos = [1.1272074251399838e-05, -4.0619088848780586e-06]\tgbest_err = 1.4355876171812253e-10\n",
      "i = 34\tgbest_pos = [1.1272074251399838e-05, -4.0619088848780586e-06]\tgbest_err = 1.4355876171812253e-10\n",
      "i = 35\tgbest_pos = [1.1272074251399838e-05, -4.0619088848780586e-06]\tgbest_err = 1.4355876171812253e-10\n",
      "i = 36\tgbest_pos = [-9.428106927529783e-07, -1.0544654710319253e-05]\tgbest_err = 1.1207863496222735e-10\n",
      "i = 37\tgbest_pos = [3.0004295471196263e-06, -6.212922210710066e-06]\tgbest_err = 4.760297986356294e-11\n",
      "i = 38\tgbest_pos = [-9.650157167968572e-07, -2.27655432708835e-06]\tgbest_err = 6.113954937849643e-12\n",
      "i = 39\tgbest_pos = [-9.650157167968572e-07, -2.27655432708835e-06]\tgbest_err = 6.113954937849643e-12\n",
      "i = 40\tgbest_pos = [1.0177780893243122e-06, 9.163570802216626e-07]\tgbest_err = 1.8755825375810183e-12\n",
      "i = 41\tgbest_pos = [1.0177780893243122e-06, 9.163570802216626e-07]\tgbest_err = 1.8755825375810183e-12\n",
      "i = 42\tgbest_pos = [1.0177780893243122e-06, 9.163570802216626e-07]\tgbest_err = 1.8755825375810183e-12\n",
      "i = 43\tgbest_pos = [1.0177780893243122e-06, 9.163570802216626e-07]\tgbest_err = 1.8755825375810183e-12\n",
      "i = 44\tgbest_pos = [7.743976857377332e-07, -3.292320497596258e-07]\tgbest_err = 7.080855182648817e-13\n",
      "i = 45\tgbest_pos = [7.743976857377332e-07, -3.292320497596258e-07]\tgbest_err = 7.080855182648817e-13\n",
      "i = 46\tgbest_pos = [3.582114723638747e-07, 6.108960974908057e-07]\tgbest_err = 5.015095008625909e-13\n",
      "i = 47\tgbest_pos = [-2.5756131658454294e-07, 2.401090492034242e-07]\tgbest_err = 1.2399018731013556e-13\n",
      "i = 48\tgbest_pos = [-2.5756131658454294e-07, 2.401090492034242e-07]\tgbest_err = 1.2399018731013556e-13\n",
      "i = 49\tgbest_pos = [1.3197793151639137e-07, -3.4950397513825104e-08]\tgbest_err = 1.8639704693719682e-14\n",
      "i = 50\tgbest_pos = [-5.861583830217537e-08, -6.580625778164913e-08]\tgbest_err = 7.766280063091627e-15\n"
     ]
    }
   ],
   "source": [
    "if __name__ == \"__main__\":\n",
    "    \n",
    "    num_dimensions = 2\n",
    "    cost_function = Utils.function\n",
    "    input_bounds = [(-15, +15), (-15, +15)]\n",
    "    num_particles = 200\n",
    "    max_iterations = 50\n",
    "\n",
    "    PSO(num_dimensions, cost_function, input_bounds, num_particles, max_iterations)"
   ]
  },
  {
   "cell_type": "code",
   "execution_count": null,
   "id": "c920e0da",
   "metadata": {},
   "outputs": [],
   "source": []
  }
 ],
 "metadata": {
  "kernelspec": {
   "display_name": "Python 3 (ipykernel)",
   "language": "python",
   "name": "python3"
  },
  "language_info": {
   "codemirror_mode": {
    "name": "ipython",
    "version": 3
   },
   "file_extension": ".py",
   "mimetype": "text/x-python",
   "name": "python",
   "nbconvert_exporter": "python",
   "pygments_lexer": "ipython3",
   "version": "3.10.11"
  }
 },
 "nbformat": 4,
 "nbformat_minor": 5
}
