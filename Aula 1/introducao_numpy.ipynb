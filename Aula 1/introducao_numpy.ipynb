{
 "cells": [
  {
   "attachments": {},
   "cell_type": "markdown",
   "metadata": {},
   "source": [
    "# Introdução NumPy:"
   ]
  },
  {
   "cell_type": "code",
   "execution_count": 2,
   "metadata": {},
   "outputs": [],
   "source": [
    "import numpy as np\n",
    "# obs.: também poderíamos importar tudo do módulo:\n",
    "# from numpy import *\n",
    "# caso não tiver instalado utilizar o comando !pip install numpy"
   ]
  },
  {
   "attachments": {},
   "cell_type": "markdown",
   "metadata": {},
   "source": [
    "## Vetores:"
   ]
  },
  {
   "cell_type": "code",
   "execution_count": 3,
   "metadata": {},
   "outputs": [
    {
     "name": "stdout",
     "output_type": "stream",
     "text": [
      "vetor: [ 3  8  5 12]\n",
      "dimensão: (4,)\n"
     ]
    }
   ],
   "source": [
    "vetor = np.array([3, 8, 5, 12])\n",
    "\n",
    "print('vetor:', vetor)\n",
    "# Shape mostra as dimensões do array:\n",
    "print('dimensão:', vetor.shape)"
   ]
  },
  {
   "cell_type": "code",
   "execution_count": 4,
   "metadata": {},
   "outputs": [
    {
     "name": "stdout",
     "output_type": "stream",
     "text": [
      "Vetor: [1.    0.1   0.01  0.001]    Dimensão: (4,)    Tipo: float64\n",
      "\n",
      "Vetor: [1 1 2 3 5 8]                Dimensão: (6,)    Tipo: int32\n"
     ]
    }
   ],
   "source": [
    "# Também podemos especificar o tipo das variáveis dentro do array:\n",
    "vetor_float = np.array([1, 0.1, 0.01, 0.001])\n",
    "print(\"Vetor:\", vetor_float, \"   Dimensão:\", vetor_float.shape, \"   Tipo:\", vetor_float.dtype)\n",
    "\n",
    "print()\n",
    "\n",
    "vetor_int = np.array([1, 1, 2, 3, 5, 8], np.uint8)\n",
    "print(\"Vetor:\", vetor_int, \"               Dimensão:\", vetor_int.shape, \"   Tipo:\", vetor_int.dtype)"
   ]
  },
  {
   "attachments": {},
   "cell_type": "markdown",
   "metadata": {},
   "source": [
    "## Matrizes:"
   ]
  },
  {
   "cell_type": "code",
   "execution_count": 5,
   "metadata": {},
   "outputs": [
    {
     "name": "stdout",
     "output_type": "stream",
     "text": [
      "matriz: [[1 2 3]\n",
      " [4 5 6]\n",
      " [7 8 9]]\n",
      "dimensão: (3, 3)\n"
     ]
    }
   ],
   "source": [
    "matriz = np.array([[1, 2, 3],\n",
    "                   [4, 5, 6],\n",
    "                   [7, 8, 9]])\n",
    "\n",
    "print('matriz:', matriz)\n",
    "print('dimensão:', matriz.shape)"
   ]
  },
  {
   "attachments": {},
   "cell_type": "markdown",
   "metadata": {},
   "source": [
    "## Geração de Arrays:"
   ]
  },
  {
   "cell_type": "code",
   "execution_count": 7,
   "metadata": {},
   "outputs": [
    {
     "name": "stdout",
     "output_type": "stream",
     "text": [
      "array 3x3 com uns\n",
      " [[1. 1. 1.]\n",
      " [1. 1. 1.]\n",
      " [1. 1. 1.]]\n",
      "array 2x3x3 com zeros\n",
      " [[[0. 0. 0.]\n",
      "  [0. 0. 0.]\n",
      "  [0. 0. 0.]]\n",
      "\n",
      " [[0. 0. 0.]\n",
      "  [0. 0. 0.]\n",
      "  [0. 0. 0.]]]\n",
      "array de 0 à 100 de 10 em 10\n",
      " [ 0 10 20 30 40 50 60 70 80 90]\n",
      "array 4x4 aleatorio de 0 à 10\n",
      " [[3 9 4 6]\n",
      " [7 2 0 6]\n",
      " [8 5 3 0]\n",
      " [6 6 0 9]]\n"
     ]
    }
   ],
   "source": [
    "array_3x3_um = np.ones((3, 3))\n",
    "print('array 3x3 com uns\\n', array_3x3_um)\n",
    "\n",
    "array_2x3x3_zero = np.zeros((2, 3, 3))\n",
    "print('array 2x3x3 com zeros\\n', array_2x3x3_zero)\n",
    "\n",
    "array_faixa = np.arange(0, 100, 10)\n",
    "print('array de 0 à 100 de 10 em 10\\n', array_faixa)\n",
    "\n",
    "#np.random.seed(20)\n",
    "array_4x4_aleatorio = np.random.randint(10, size=(4, 4))\n",
    "print('array 4x4 aleatorio de 0 à 10\\n', array_4x4_aleatorio)"
   ]
  },
  {
   "cell_type": "markdown",
   "metadata": {},
   "source": [
    "#### Transposta e concatenação:"
   ]
  },
  {
   "cell_type": "code",
   "execution_count": 7,
   "metadata": {},
   "outputs": [
    {
     "name": "stdout",
     "output_type": "stream",
     "text": [
      "Matriz 2x3:\n",
      "[[0 1 2]\n",
      " [3 4 5]]\n",
      "\n",
      "Transposta:\n",
      "[[0 3]\n",
      " [1 4]\n",
      " [2 5]]\n",
      "\n",
      "Matriz 2x2:\n",
      "[[6 7]\n",
      " [8 9]]\n",
      "\n",
      "Matriz 3x3:\n",
      "[[ 6  7  8]\n",
      " [ 9 10 11]\n",
      " [12 13 14]]\n"
     ]
    }
   ],
   "source": [
    "matriz_2x3 = np.array([[0, 1, 2], [3, 4, 5]])\n",
    "print('Matriz 2x3:')\n",
    "print(matriz_2x3)\n",
    "\n",
    "print('\\nTransposta:')\n",
    "print(matriz_2x3.T)\n",
    "\n",
    "matriz_2x2 = np.array([[6, 7], [8, 9]])\n",
    "print('\\nMatriz 2x2:')\n",
    "print(matriz_2x2)\n",
    "\n",
    "matriz_3x3 = np.array([[6, 7, 8], [9, 10, 11], [12, 13, 14]])\n",
    "print('\\nMatriz 3x3:')\n",
    "print(matriz_3x3)"
   ]
  },
  {
   "cell_type": "markdown",
   "metadata": {},
   "source": [
    "#### Indexação:\n",
    "\n",
    "A indexação funciona da mesma forma que listas normais do Python:"
   ]
  },
  {
   "cell_type": "code",
   "execution_count": 8,
   "metadata": {},
   "outputs": [
    {
     "name": "stdout",
     "output_type": "stream",
     "text": [
      "Linha de índice 0: [0 1 2]\n",
      "Linha 2 e coluna 1: 7\n",
      "Todas linhas e coluna 1: [ 1  4  7 10]\n",
      "Linhas [1, 3) e colunas >= 1:\n",
      " [[4 5]\n",
      " [7 8]]\n"
     ]
    }
   ],
   "source": [
    "# Elementos individuais:\n",
    "matriz_4x3 = np.array([[0,  1,  2],\n",
    "                       [3,  4,  5],\n",
    "                       [6,  7,  8],\n",
    "                       [9, 10, 11]])\n",
    "\n",
    "print(\"Linha de índice 0:\", matriz_4x3[0]) # linha de índice 0\n",
    "print(\"Linha 2 e coluna 1:\", matriz_4x3[2, 1]) # linha de índice 2 ([6, 7, 8]) e coluna de índice 1\n",
    "print(\"Todas linhas e coluna 1:\", matriz_4x3[:, 1]) # todas as linhas e coluna de índice 1\n",
    "print(\"Linhas [1, 3) e colunas >= 1:\\n\", matriz_4x3[1:3, 1:]) # linhas [1, 3), todas as colunas a partir de 1"
   ]
  }
 ],
 "metadata": {
  "kernelspec": {
   "display_name": "Python 3",
   "language": "python",
   "name": "python3"
  },
  "language_info": {
   "codemirror_mode": {
    "name": "ipython",
    "version": 3
   },
   "file_extension": ".py",
   "mimetype": "text/x-python",
   "name": "python",
   "nbconvert_exporter": "python",
   "pygments_lexer": "ipython3",
   "version": "3.10.11"
  },
  "orig_nbformat": 4,
  "vscode": {
   "interpreter": {
    "hash": "14484306f3a114d615cedfc940d7e3c36c4908fe58aba28489e23c95768fd0fc"
   }
  }
 },
 "nbformat": 4,
 "nbformat_minor": 2
}
