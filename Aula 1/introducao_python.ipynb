{
 "cells": [
  {
   "attachments": {},
   "cell_type": "markdown",
   "metadata": {},
   "source": [
    "# Introdução Python"
   ]
  },
  {
   "attachments": {},
   "cell_type": "markdown",
   "metadata": {},
   "source": [
    "## Variáveis:"
   ]
  },
  {
   "cell_type": "code",
   "execution_count": null,
   "metadata": {},
   "outputs": [],
   "source": [
    "inteiro = 10\n",
    "\n",
    "ponto_flutuante = 1.2\n",
    "\n",
    "string = \"hello world!\"\n",
    "string2 = 'hello world!'\n",
    "string3 = '''\n",
    "  hello\n",
    "  world\n",
    "  !\n",
    "'''\n",
    "\n",
    "booleano = True | False"
   ]
  },
  {
   "attachments": {},
   "cell_type": "markdown",
   "metadata": {},
   "source": [
    "## Entrada e Saída:\n"
   ]
  },
  {
   "cell_type": "code",
   "execution_count": 6,
   "metadata": {},
   "outputs": [
    {
     "name": "stdout",
     "output_type": "stream",
     "text": [
      "sua entrada foi op\n"
     ]
    }
   ],
   "source": [
    "entrada = input('prompt de entrada')\n",
    "\n",
    "texto = f'sua entrada foi {entrada}'\n",
    "# texto = 'sua entrada foi' + entrada\n",
    "\n",
    "print(texto)\n",
    "# print('sua entrada foi', entrada)\n"
   ]
  },
  {
   "attachments": {},
   "cell_type": "markdown",
   "metadata": {},
   "source": [
    "## Operadores Aritiméticos:\n",
    "```python\n",
    "soma = x + y\n",
    "subtracao = x - y\n",
    "multiplicacao = x * y\n",
    "divisao = x / y\n",
    "divisao_truncada = x // y\n",
    "exponenciacao = x ** y # x elevado a y\n",
    "resto_divisao = x % y"
   ]
  },
  {
   "cell_type": "code",
   "execution_count": 9,
   "metadata": {},
   "outputs": [
    {
     "name": "stdout",
     "output_type": "stream",
     "text": [
      "13\n",
      "7\n",
      "30\n",
      "3.3333333333333335\n",
      "3\n",
      "1000\n",
      "1\n"
     ]
    }
   ],
   "source": [
    "x = 10\n",
    "y = 3\n",
    "\n",
    "soma = x + y\n",
    "subtracao = x - y\n",
    "multiplicacao = x * y\n",
    "divisao = x / y\n",
    "divisao_truncada = x // y \n",
    "exponenciacao = x ** y\n",
    "resto_divisao = x % y\n",
    "\n",
    "print(soma)\n",
    "print(subtracao)\n",
    "print(multiplicacao)\n",
    "print(divisao)\n",
    "print(divisao_truncada)\n",
    "print(exponenciacao)\n",
    "print(resto_divisao)"
   ]
  },
  {
   "attachments": {},
   "cell_type": "markdown",
   "metadata": {},
   "source": [
    "## Operadores de Comparação:"
   ]
  },
  {
   "cell_type": "code",
   "execution_count": null,
   "metadata": {},
   "outputs": [],
   "source": [
    "x = 20\n",
    "y = 7\n",
    "\n",
    "igual = x == y\n",
    "diferente = x != y\n",
    "menor = x < y\n",
    "maior = x > y\n",
    "menor_igual = x <= y\n",
    "maior_igual = x >= y"
   ]
  },
  {
   "attachments": {},
   "cell_type": "markdown",
   "metadata": {},
   "source": [
    "## Operadores Lógicos:"
   ]
  },
  {
   "cell_type": "code",
   "execution_count": null,
   "metadata": {},
   "outputs": [],
   "source": [
    "b1 = True\n",
    "b2 = False\n",
    "\n",
    "e = b1 and b2\n",
    "ou = b1 or b2\n",
    "nao = not b1"
   ]
  },
  {
   "attachments": {},
   "cell_type": "markdown",
   "metadata": {},
   "source": [
    "## Estrutura de decisão:"
   ]
  },
  {
   "cell_type": "code",
   "execution_count": null,
   "metadata": {},
   "outputs": [],
   "source": [
    "condicao1 = False\n",
    "condicao2 = True\n",
    "\n",
    "if condicao1:\n",
    "  print('faz algo')\n",
    "elif condicao2:\n",
    "  print('faz outra coisa')\n",
    "else:\n",
    "  print('faz diferente')\n",
    "\n",
    "# obs: identação!!"
   ]
  },
  {
   "cell_type": "markdown",
   "metadata": {},
   "source": [
    "## Estruturas de Repetição:"
   ]
  },
  {
   "cell_type": "code",
   "execution_count": 10,
   "metadata": {},
   "outputs": [
    {
     "name": "stdout",
     "output_type": "stream",
     "text": [
      "1\n",
      "2\n",
      "oi\n",
      "0 1\n",
      "1 2\n",
      "2 oi\n",
      "[0, 5):\n",
      "0\n",
      "1\n",
      "2\n",
      "3\n",
      "4\n",
      "\n",
      "[2, 8):\n",
      "2\n",
      "3\n",
      "4\n",
      "5\n",
      "6\n",
      "7\n",
      "\n",
      "[4, 9) com passo 2:\n",
      "4\n",
      "6\n",
      "8\n"
     ]
    }
   ],
   "source": [
    "condicao = False\n",
    "\n",
    "while condicao:\n",
    "  pass\n",
    "\n",
    "lista = [1, 2, 'oi']\n",
    "\n",
    "for item in lista:\n",
    "  print(item)\n",
    "\n",
    "for posicao, item in enumerate(lista):\n",
    "  print(posicao, lista[posicao])\n",
    "\n",
    "\n",
    "print(\"[0, 5):\")\n",
    "for i in range(5):\n",
    "    print(i)\n",
    "\n",
    "print()\n",
    "    \n",
    "print(\"[2, 8):\")\n",
    "for j in range(2, 8):\n",
    "    print(j)\n",
    "    \n",
    "print()\n",
    "    \n",
    "print(\"[4, 9) com passo 2:\")\n",
    "for k in range(4, 9, 2):\n",
    "    print(k)"
   ]
  },
  {
   "attachments": {},
   "cell_type": "markdown",
   "metadata": {},
   "source": [
    "## Listas (Arrays):"
   ]
  },
  {
   "cell_type": "code",
   "execution_count": 1,
   "metadata": {},
   "outputs": [
    {
     "name": "stdout",
     "output_type": "stream",
     "text": [
      "tamanho da lista: 6\n",
      "posição 3: 30\n",
      "ultimo item: 30\n",
      "faixa de posicões: ['na posicao 2', 30, None]\n",
      "lista invertida: ['novo elemento', None, 30, 'na posicao 2', 10.2, 'texto']\n",
      "ordenada crescente: [5, 47, 100]\n",
      "ordenada decrescente: [100, 47, 5]\n"
     ]
    }
   ],
   "source": [
    "lista = ['texto', 10.2, 30, None]\n",
    "\n",
    "# Adicionar novos elementos:\n",
    "lista.append('novo elemento')\n",
    "lista.insert(2, 'na posicao 2')\n",
    "\n",
    "# Tamanho da lista\n",
    "print('tamanho da lista:', len(lista))\n",
    "\n",
    "# Printar valores\n",
    "print('posição 3:', lista[3]) # Elemento na posição 3\n",
    "print('ultimo item:', lista[-1]) # Último elemento\n",
    "print('faixa de posicões:', lista[2:5]) # Pega os elementos 2, 3 e 4. Obs: O primeiro valor é inclusivo e o segundo exclusivo\n",
    "\n",
    "# Inverter a lista\n",
    "lista.reverse()\n",
    "\n",
    "print('lista invertida:', lista)\n",
    "\n",
    "lista_numeros = [100, 5, 47]\n",
    "\n",
    "# Ordenação (listas homogêneas)\n",
    "lista_numeros.sort()\n",
    "print('ordenada crescente:', lista_numeros)\n",
    "\n",
    "lista_numeros.sort(reverse=True)\n",
    "print('ordenada decrescente:', lista_numeros)"
   ]
  },
  {
   "attachments": {},
   "cell_type": "markdown",
   "metadata": {},
   "source": [
    "## Dicionários:"
   ]
  },
  {
   "cell_type": "code",
   "execution_count": 11,
   "metadata": {},
   "outputs": [
    {
     "name": "stdout",
     "output_type": "stream",
     "text": [
      "nome: WIlly\n"
     ]
    }
   ],
   "source": [
    "dicionario = {\n",
    "  'nome': 'WIlly',\n",
    "  'idade': 21\n",
    "}\n",
    "\n",
    "dicionario['cidade'] = 'Santa Rita'\n",
    "\n",
    "print('nome:', dicionario['nome'])"
   ]
  },
  {
   "attachments": {},
   "cell_type": "markdown",
   "metadata": {},
   "source": [
    "## Tuplas:\n",
    "Tuplas funcionam como listas heterogêneas de tamanho fixo e imutáveis.\n"
   ]
  },
  {
   "cell_type": "code",
   "execution_count": 3,
   "metadata": {},
   "outputs": [
    {
     "name": "stdout",
     "output_type": "stream",
     "text": [
      "Willy Paim\n",
      "Willy Paim 21\n"
     ]
    }
   ],
   "source": [
    "tupla = ('Willy', 'Paim', 21)\n",
    "\n",
    "print(tupla[0], tupla[1])\n",
    "\n",
    "#tupla[0] = 'outro nome' <-- erro, é imutavel\n",
    "# tupla[3] = 'algo novo' <-- erro, tem tamanho fixo\n",
    "\n",
    "# Desconstrução de tuplas:\n",
    "(nome1, sobrenome1, idade) = tupla\n",
    "print(nome1, sobrenome1, idade)"
   ]
  },
  {
   "cell_type": "markdown",
   "metadata": {},
   "source": [
    "## Funções\n",
    "\n",
    "Funções fornecem uma forma de reutilizar código e deixar ele mais organizado. A sintaxe é como abaixo:\n",
    "```python\n",
    "def nome_funcao(argumento1, argumento2, argumento3=opcional1, argumento4=opcional2):\n",
    "    corpo_funcao\n",
    "    return valor # obs.: return não é obrigatório\n",
    "\n",
    "Abaixo temos exemplos de funções:"
   ]
  },
  {
   "cell_type": "code",
   "execution_count": 1,
   "metadata": {},
   "outputs": [
    {
     "name": "stdout",
     "output_type": "stream",
     "text": [
      "4\n",
      "8\n"
     ]
    }
   ],
   "source": [
    "# Função com retorno:\n",
    "def soma(x, y=5):\n",
    "    z = x + y\n",
    "    return z\n",
    "\n",
    "print(soma(1, 3))\n",
    "print(soma(3))"
   ]
  },
  {
   "cell_type": "code",
   "execution_count": 2,
   "metadata": {},
   "outputs": [
    {
     "name": "stdout",
     "output_type": "stream",
     "text": [
      "0 é par\n",
      "1 é ímpar\n",
      "2 é par\n",
      "3 é ímpar\n",
      "4 é par\n",
      "5 é ímpar\n",
      "6 é par\n",
      "7 é ímpar\n",
      "8 é par\n",
      "9 é ímpar\n"
     ]
    }
   ],
   "source": [
    "# Função sem retorno:\n",
    "def mostra_paridade(valores):\n",
    "    for valor in valores:\n",
    "        if valor % 2 == 0:\n",
    "            print(valor, \"é par\")\n",
    "        else:\n",
    "            print(valor, \"é ímpar\")\n",
    "            \n",
    "mostra_paridade(range(0, 10))"
   ]
  }
 ],
 "metadata": {
  "kernelspec": {
   "display_name": "Python 3",
   "language": "python",
   "name": "python3"
  },
  "language_info": {
   "codemirror_mode": {
    "name": "ipython",
    "version": 3
   },
   "file_extension": ".py",
   "mimetype": "text/x-python",
   "name": "python",
   "nbconvert_exporter": "python",
   "pygments_lexer": "ipython3",
   "version": "3.10.11"
  },
  "orig_nbformat": 4,
  "vscode": {
   "interpreter": {
    "hash": "14484306f3a114d615cedfc940d7e3c36c4908fe58aba28489e23c95768fd0fc"
   }
  }
 },
 "nbformat": 4,
 "nbformat_minor": 2
}
