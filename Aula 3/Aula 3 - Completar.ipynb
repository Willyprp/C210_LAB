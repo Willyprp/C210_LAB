{
 "cells": [
  {
   "cell_type": "markdown",
   "id": "50dbefdc",
   "metadata": {},
   "source": [
    "# Aprendizado de Máquina - Algoritmos de Regressão"
   ]
  },
  {
   "cell_type": "markdown",
   "id": "1ff302f7",
   "metadata": {},
   "source": [
    "A Regressão é um dos métodos de previsão mais utilizados no meio estatístico, usado para estimar o valor de algo baseado em uma série de outros dados históricos. Como exemplo podemos citar a regressão linear, a decision tree, e o SRV."
   ]
  },
  {
   "cell_type": "markdown",
   "id": "c679c287",
   "metadata": {},
   "source": [
    "## Regressão Linear"
   ]
  },
  {
   "cell_type": "markdown",
   "id": "65371386",
   "metadata": {},
   "source": [
    "Sua origem vem da correlação linear, que é a verificação da existência de um relacionamento entre duas variáveis. Ou seja, dado X e Y, quanto que X explica Y. Para isso, a regressão linear utiliza os pontos de dados para encontrar a melhor linha de ajuste para modelar essa relação."
   ]
  },
  {
   "cell_type": "markdown",
   "id": "e133c1fa",
   "metadata": {},
   "source": [
    "<img src=\"exemplo.jpg\" style=width:500px;height:400px/>"
   ]
  },
  {
   "cell_type": "markdown",
   "id": "be5ed975",
   "metadata": {},
   "source": [
    "## Exercício"
   ]
  },
  {
   "cell_type": "markdown",
   "id": "7fb91806",
   "metadata": {},
   "source": [
    "### Importando bibliotecas"
   ]
  },
  {
   "cell_type": "code",
   "execution_count": 1,
   "id": "9f44d29b",
   "metadata": {},
   "outputs": [],
   "source": [
    "### Análise de dados\n",
    "import pandas as pd\n",
    "import numpy as np\n",
    "import matplotlib.pyplot as plt\n",
    "\n",
    "### Criação do modelo\n",
    "from sklearn.linear_model import LinearRegression\n",
    "from sklearn.model_selection import train_test_split \n",
    "\n",
    "### Avaliação de métricas\n",
    "from sklearn.metrics import mean_squared_error"
   ]
  },
  {
   "cell_type": "markdown",
   "id": "f4f52f40",
   "metadata": {},
   "source": [
    "### Leitura dos dados"
   ]
  },
  {
   "cell_type": "code",
   "execution_count": 2,
   "id": "dbddb7f1",
   "metadata": {},
   "outputs": [
    {
     "data": {
      "text/html": [
       "<div>\n",
       "<style scoped>\n",
       "    .dataframe tbody tr th:only-of-type {\n",
       "        vertical-align: middle;\n",
       "    }\n",
       "\n",
       "    .dataframe tbody tr th {\n",
       "        vertical-align: top;\n",
       "    }\n",
       "\n",
       "    .dataframe thead th {\n",
       "        text-align: right;\n",
       "    }\n",
       "</style>\n",
       "<table border=\"1\" class=\"dataframe\">\n",
       "  <thead>\n",
       "    <tr style=\"text-align: right;\">\n",
       "      <th></th>\n",
       "      <th>Hours</th>\n",
       "      <th>Scores</th>\n",
       "    </tr>\n",
       "  </thead>\n",
       "  <tbody>\n",
       "    <tr>\n",
       "      <th>0</th>\n",
       "      <td>2.5</td>\n",
       "      <td>21</td>\n",
       "    </tr>\n",
       "    <tr>\n",
       "      <th>1</th>\n",
       "      <td>5.1</td>\n",
       "      <td>47</td>\n",
       "    </tr>\n",
       "    <tr>\n",
       "      <th>2</th>\n",
       "      <td>3.2</td>\n",
       "      <td>27</td>\n",
       "    </tr>\n",
       "    <tr>\n",
       "      <th>3</th>\n",
       "      <td>8.5</td>\n",
       "      <td>75</td>\n",
       "    </tr>\n",
       "    <tr>\n",
       "      <th>4</th>\n",
       "      <td>3.5</td>\n",
       "      <td>30</td>\n",
       "    </tr>\n",
       "  </tbody>\n",
       "</table>\n",
       "</div>"
      ],
      "text/plain": [
       "   Hours  Scores\n",
       "0    2.5      21\n",
       "1    5.1      47\n",
       "2    3.2      27\n",
       "3    8.5      75\n",
       "4    3.5      30"
      ]
     },
     "execution_count": 2,
     "metadata": {},
     "output_type": "execute_result"
    }
   ],
   "source": [
    "data = pd.read_csv(\"student_scores.csv\")\n",
    "data.head()\n",
    "###importando no google collab\n",
    "\n",
    "#import io\n",
    "\n",
    "#from google.colab import files\n",
    "#uploaded = files.upload()\n",
    "\n",
    "#data = pd.read_csv(io.BytesIO(uploaded['student_scores.csv']))\n",
    "#data.head()"
   ]
  },
  {
   "cell_type": "markdown",
   "id": "b55645b3",
   "metadata": {},
   "source": [
    "### Análise exploratória"
   ]
  },
  {
   "cell_type": "code",
   "execution_count": 5,
   "id": "49ce68ca",
   "metadata": {},
   "outputs": [
    {
     "data": {
      "image/png": "[encoded data removed]",
      "text/plain": [
       "<Figure size 600x400 with 1 Axes>"
      ]
     },
     "metadata": {
      "needs_background": "light"
     },
     "output_type": "display_data"
    }
   ],
   "source": [
    "plt.rcParams[\"figure.dpi\"] = 100\n",
    "plt.scatter(data[\"Hours\"], data[\"Scores\"], color=\"black\")\n",
    "plt.title(\"Hours vs Scores\")\n",
    "plt.xlabel(\"Hours Studied\")\n",
    "plt.ylabel(\"Scores\")\n",
    "plt.show()"
   ]
  },
  {
   "cell_type": "markdown",
   "id": "04b31edf",
   "metadata": {},
   "source": [
    "### Definição do modelo e treino"
   ]
  },
  {
   "cell_type": "code",
   "execution_count": 3,
   "id": "d6b8318d",
   "metadata": {},
   "outputs": [],
   "source": [
    "#instanciando modelo\n",
    "linear = LinearRegression()"
   ]
  },
  {
   "cell_type": "code",
   "execution_count": 6,
   "id": "ffd07483",
   "metadata": {},
   "outputs": [
    {
     "name": "stdout",
     "output_type": "stream",
     "text": [
      "Tamanho X de treino: (20, 1)\n",
      "Tamanho X de teste: (5, 1)\n",
      "Tamanho y de treino: (20, 1)\n",
      "Tamanho y de teste: (5, 1)\n"
     ]
    }
   ],
   "source": [
    "#Separando dados\n",
    "## Variável preditora\n",
    "x = data[\"Hours\"]\n",
    "x = np.array(x).reshape(-1,1)\n",
    "\n",
    "## Variável alvo\n",
    "y = data[\"Scores\"]\n",
    "y = np.array(y).reshape(-1,1)\n",
    "\n",
    "## Separando treino e teste\n",
    "X_train, X_test, y_train, y_test = train_test_split(x,y, test_size=0.2, random_state=0)\n",
    "\n",
    "print(f\"Tamanho X de treino: {X_train.shape}\")\n",
    "print(f\"Tamanho X de teste: {X_test.shape}\")\n",
    "print(f\"Tamanho y de treino: {y_train.shape}\")\n",
    "print(f\"Tamanho y de teste: {y_test.shape}\")"
   ]
  },
  {
   "cell_type": "code",
   "execution_count": 7,
   "id": "aea8fa63",
   "metadata": {},
   "outputs": [
    {
     "data": {
      "text/html": [
       "<style>#sk-container-id-1 {color: black;}#sk-container-id-1 pre{padding: 0;}#sk-container-id-1 div.sk-toggleable {background-color: white;}#sk-container-id-1 label.sk-toggleable__label {cursor: pointer;display: block;width: 100%;margin-bottom: 0;padding: 0.3em;box-sizing: border-box;text-align: center;}#sk-container-id-1 label.sk-toggleable__label-arrow:before {content: \"▸\";float: left;margin-right: 0.25em;color: #696969;}#sk-container-id-1 label.sk-toggleable__label-arrow:hover:before {color: black;}#sk-container-id-1 div.sk-estimator:hover label.sk-toggleable__label-arrow:before {color: black;}#sk-container-id-1 div.sk-toggleable__content {max-height: 0;max-width: 0;overflow: hidden;text-align: left;background-color: #f0f8ff;}#sk-container-id-1 div.sk-toggleable__content pre {margin: 0.2em;color: black;border-radius: 0.25em;background-color: #f0f8ff;}#sk-container-id-1 input.sk-toggleable__control:checked~div.sk-toggleable__content {max-height: 200px;max-width: 100%;overflow: auto;}#sk-container-id-1 input.sk-toggleable__control:checked~label.sk-toggleable__label-arrow:before {content: \"▾\";}#sk-container-id-1 div.sk-estimator input.sk-toggleable__control:checked~label.sk-toggleable__label {background-color: #d4ebff;}#sk-container-id-1 div.sk-label input.sk-toggleable__control:checked~label.sk-toggleable__label {background-color: #d4ebff;}#sk-container-id-1 input.sk-hidden--visually {border: 0;clip: rect(1px 1px 1px 1px);clip: rect(1px, 1px, 1px, 1px);height: 1px;margin: -1px;overflow: hidden;padding: 0;position: absolute;width: 1px;}#sk-container-id-1 div.sk-estimator {font-family: monospace;background-color: #f0f8ff;border: 1px dotted black;border-radius: 0.25em;box-sizing: border-box;margin-bottom: 0.5em;}#sk-container-id-1 div.sk-estimator:hover {background-color: #d4ebff;}#sk-container-id-1 div.sk-parallel-item::after {content: \"\";width: 100%;border-bottom: 1px solid gray;flex-grow: 1;}#sk-container-id-1 div.sk-label:hover label.sk-toggleable__label {background-color: #d4ebff;}#sk-container-id-1 div.sk-serial::before {content: \"\";position: absolute;border-left: 1px solid gray;box-sizing: border-box;top: 0;bottom: 0;left: 50%;z-index: 0;}#sk-container-id-1 div.sk-serial {display: flex;flex-direction: column;align-items: center;background-color: white;padding-right: 0.2em;padding-left: 0.2em;position: relative;}#sk-container-id-1 div.sk-item {position: relative;z-index: 1;}#sk-container-id-1 div.sk-parallel {display: flex;align-items: stretch;justify-content: center;background-color: white;position: relative;}#sk-container-id-1 div.sk-item::before, #sk-container-id-1 div.sk-parallel-item::before {content: \"\";position: absolute;border-left: 1px solid gray;box-sizing: border-box;top: 0;bottom: 0;left: 50%;z-index: -1;}#sk-container-id-1 div.sk-parallel-item {display: flex;flex-direction: column;z-index: 1;position: relative;background-color: white;}#sk-container-id-1 div.sk-parallel-item:first-child::after {align-self: flex-end;width: 50%;}#sk-container-id-1 div.sk-parallel-item:last-child::after {align-self: flex-start;width: 50%;}#sk-container-id-1 div.sk-parallel-item:only-child::after {width: 0;}#sk-container-id-1 div.sk-dashed-wrapped {border: 1px dashed gray;margin: 0 0.4em 0.5em 0.4em;box-sizing: border-box;padding-bottom: 0.4em;background-color: white;}#sk-container-id-1 div.sk-label label {font-family: monospace;font-weight: bold;display: inline-block;line-height: 1.2em;}#sk-container-id-1 div.sk-label-container {text-align: center;}#sk-container-id-1 div.sk-container {/* jupyter's `normalize.less` sets `[hidden] { display: none; }` but bootstrap.min.css set `[hidden] { display: none !important; }` so we also need the `!important` here to be able to override the default hidden behavior on the sphinx rendered scikit-learn.org. See: https://github.com/scikit-learn/scikit-learn/issues/21755 */display: inline-block !important;position: relative;}#sk-container-id-1 div.sk-text-repr-fallback {display: none;}</style><div id=\"sk-container-id-1\" class=\"sk-top-container\"><div class=\"sk-text-repr-fallback\"><pre>LinearRegression()</pre><b>In a Jupyter environment, please rerun this cell to show the HTML representation or trust the notebook. <br />On GitHub, the HTML representation is unable to render, please try loading this page with nbviewer.org.</b></div><div class=\"sk-container\" hidden><div class=\"sk-item\"><div class=\"sk-estimator sk-toggleable\"><input class=\"sk-toggleable__control sk-hidden--visually\" id=\"sk-estimator-id-1\" type=\"checkbox\" checked><label for=\"sk-estimator-id-1\" class=\"sk-toggleable__label sk-toggleable__label-arrow\">LinearRegression</label><div class=\"sk-toggleable__content\"><pre>LinearRegression()</pre></div></div></div></div></div>"
      ],
      "text/plain": [
       "LinearRegression()"
      ]
     },
     "execution_count": 7,
     "metadata": {},
     "output_type": "execute_result"
    }
   ],
   "source": [
    "#Treinando o sistema\n",
    "linear.fit(X_train, y_train)"
   ]
  },
  {
   "cell_type": "markdown",
   "id": "113ec476",
   "metadata": {},
   "source": [
    "# Treinando modelos"
   ]
  },
  {
   "cell_type": "markdown",
   "id": "82c9641a",
   "metadata": {},
   "source": [
    "### Predições"
   ]
  },
  {
   "cell_type": "code",
   "execution_count": 8,
   "id": "f319b42a",
   "metadata": {},
   "outputs": [],
   "source": [
    "#Prevendo valores\n",
    "y_predict = linear.predict(X_test)"
   ]
  },
  {
   "cell_type": "code",
   "execution_count": 9,
   "id": "991e7966",
   "metadata": {},
   "outputs": [
    {
     "data": {
      "image/png": "[encoded data removed]",
      "text/plain": [
       "<Figure size 640x480 with 1 Axes>"
      ]
     },
     "metadata": {},
     "output_type": "display_data"
    }
   ],
   "source": [
    "plt.scatter(data[\"Hours\"], data[\"Scores\"], color=\"green\")\n",
    "plt.plot(X_test, y_predict, color=\"red\", linewidth=2)\n",
    "plt.show()"
   ]
  },
  {
   "cell_type": "markdown",
   "id": "44c3aa4d",
   "metadata": {},
   "source": [
    "## Métrica de avaliação"
   ]
  },
  {
   "cell_type": "markdown",
   "id": "4925e8c1",
   "metadata": {},
   "source": [
    "### RMSE (Erro quadrático médio)"
   ]
  },
  {
   "cell_type": "markdown",
   "id": "81bfb61c",
   "metadata": {},
   "source": [
    "É comumente usada para expressar a acurácia dos resultados numéricos do modelo. (Quanto maior seu valor, pior o desempenho do modelo)."
   ]
  },
  {
   "cell_type": "markdown",
   "id": "e2ff72ac",
   "metadata": {},
   "source": [
    "<img src=\"eqm.jpg\" style=width:500px;height:400px/>"
   ]
  },
  {
   "cell_type": "markdown",
   "id": "93a0a2d7",
   "metadata": {},
   "source": [
    "Obs:\n",
    "\n",
    "    Overfitting: Quando o RMSE é muito próximo de 0, o sistema se torna \"viciado\", e acaba por se perder e não saber qual caminho seguir.\n",
    "    Underfitting: Quando o RMSE é muito alto, e os dados acabam por não serem suficientes e satisfatórios para predições futuras."
   ]
  },
  {
   "cell_type": "code",
   "execution_count": 10,
   "id": "f1f72196",
   "metadata": {},
   "outputs": [
    {
     "name": "stdout",
     "output_type": "stream",
     "text": [
      "MSE:  21.598769307217406\n"
     ]
    }
   ],
   "source": [
    "#Avaliando o modelo\n",
    "mse = mean_squared_error(y_test, y_predict)\n",
    "print(\"MSE: \", mse)"
   ]
  },
  {
   "cell_type": "markdown",
   "id": "b7c9b7d4",
   "metadata": {},
   "source": [
    "### Predição do usuário"
   ]
  },
  {
   "cell_type": "code",
   "execution_count": 11,
   "id": "6f6934e5",
   "metadata": {},
   "outputs": [
    {
     "name": "stdout",
     "output_type": "stream",
     "text": [
      "Hoaras estudadas 1.0, terá uma nota 11.92881652207693\n",
      "Hoaras estudadas 4.0, terá uma nota 41.66078596400363\n",
      "Hoaras estudadas 800.0, terá uma nota 7930.543344555221\n",
      "Hoaras estudadas 15.0, terá uma nota 150.67800725106818\n",
      "Hoaras estudadas 5.5, terá uma nota 56.526770684966976\n"
     ]
    }
   ],
   "source": [
    "pergunta =np.array([1,4,800,15,5.5]).reshape(-1,1)\n",
    "resposta = linear.predict(pergunta)\n",
    "for i in range(5):\n",
    "    print(f\"Hoaras estudadas {pergunta[i][0]}, terá uma nota {resposta[i][0]}\")"
   ]
  }
 ],
 "metadata": {
  "kernelspec": {
   "display_name": "Python 3 (ipykernel)",
   "language": "python",
   "name": "python3"
  },
  "language_info": {
   "codemirror_mode": {
    "name": "ipython",
    "version": 3
   },
   "file_extension": ".py",
   "mimetype": "text/x-python",
   "name": "python",
   "nbconvert_exporter": "python",
   "pygments_lexer": "ipython3",
   "version": "3.10.11"
  }
 },
 "nbformat": 4,
 "nbformat_minor": 5
}
