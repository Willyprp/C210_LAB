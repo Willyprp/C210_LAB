{
 "cells": [
  {
   "cell_type": "markdown",
   "id": "d16fd430",
   "metadata": {},
   "source": [
    "# Redes Adaline"
   ]
  },
  {
   "cell_type": "markdown",
   "id": "aaef9230",
   "metadata": {},
   "source": [
    "* Rede feed-forward\n",
    "* Treinamento Supervisionado\n",
    "* Minimizar o erro quadrático de todo o conjunto de amostras\n",
    "* Vetor gradiente -> aponta para o crescimento da função\n",
    "* Regra delta: o ajuste nos pesos deve se dar no sentido contrário do gradiente"
   ]
  },
  {
   "cell_type": "markdown",
   "id": "9f4ee1b2",
   "metadata": {},
   "source": [
    "## Modelo de neurônio"
   ]
  },
  {
   "cell_type": "markdown",
   "id": "ed120293",
   "metadata": {},
   "source": [
    "<img src=\"neuronio.jpg\" style=width:500px;height:400px/>"
   ]
  },
  {
   "cell_type": "markdown",
   "id": "25eafcfb",
   "metadata": {},
   "source": [
    "## Função de Ativação"
   ]
  },
  {
   "cell_type": "markdown",
   "id": "7c5450a5",
   "metadata": {},
   "source": [
    "<img src=\"limiar.jpg\" style=width:500px;height:400px/>"
   ]
  },
  {
   "cell_type": "code",
   "execution_count": 41,
   "id": "7e4d75a4",
   "metadata": {},
   "outputs": [
    {
     "data": {
      "image/png": "[encoded data removed]",
      "text/plain": [
       "<Figure size 600x400 with 1 Axes>"
      ]
     },
     "metadata": {},
     "output_type": "display_data"
    }
   ],
   "source": [
    "import numpy as np\n",
    "import matplotlib.pyplot as plt\n",
    "\n",
    "# Dataset\n",
    "x = np.array([[5.7, 7.5], [9.3, 5.6], [8.8, 6.9], [6.8, 9.2], [7.9, 9.1],\n",
    "              [8.8, 5.6], [5.6, 7.8], [8.8, 9.0], [7.6, 5.9], [4.9, 8.1],\n",
    "              [6.6, 4.5], [5.2, 7.2], [1.2, 1.2], [2.4, 1.6], [4.7, 2.5],\n",
    "              [0.9, 3.1], [2.6, 4.1], [1.8, 2.0], [4.1, 2.8], [1.8, 1.6],\n",
    "              [1.9, 3.1], [0.8, 3.2], [1.8, 2.9], [3.3, 1.6], [3.7, 2.5]\n",
    "             ])\n",
    "\n",
    "d = np.array([-1, -1, -1, -1, -1, -1, -1, -1, -1, -1, -1, -1, 1, 1, 1, 1, 1, 1, 1, 1, 1, 1, 1, 1, 1])\n",
    "\n",
    "\n",
    "plt.figure(figsize=(6,4))\n",
    "plt.title(\"Data points\")\n",
    "plt.scatter(x[:, 0], x[:, 1], c = d, cmap = 'bwr')\n",
    "plt.show()"
   ]
  },
  {
   "cell_type": "code",
   "execution_count": 42,
   "id": "41df2af8",
   "metadata": {},
   "outputs": [],
   "source": [
    "#CRIANDO A CLASSE DA REDE ADALINE\n",
    "class Adaline:\n",
    "    \n",
    "    def __init__(self, lr, e):\n",
    "        '''Construtor, define taxa de aprendizado e a taxa de erro aceita para convergir'''\n",
    "        self.lr = lr\n",
    "        self.e = e\n",
    "        \n",
    "    def activation(self, value):\n",
    "        ''' 1 se value >= 0, -1 senão'''\n",
    "        return (1 if value >= 0 else -1)\n",
    "        \n",
    "    def predict(self, x):\n",
    "        ''' Multiplicação matricial entre as entradas e os pesos somado ao bias proporcional'''\n",
    "        return np.dot(x, self.weights.T) + self.bias * self.w_bias\n",
    "    \n",
    "    def evaluate(self, target, predicted):\n",
    "        ''' Calcula a diferença entre o valor real e o valor predito'''\n",
    "        return (target - predicted)\n",
    "    \n",
    "    def train(self, x, d):\n",
    "        ''' Definir aleatoriamente os pesos, o bias e o peso do bias\n",
    "            Enquanto a diferença entre m mse_anterior e o mse_atual for maior que 'e' continua o processo \n",
    "        '''\n",
    "        self.weights = np.random.random(x.shape[1])\n",
    "        self.bias = -1\n",
    "        self.w_bias = np.random.random()\n",
    "        \n",
    "        epoch = 0\n",
    "        self.total_mse = []\n",
    "        last_mse = np.inf\n",
    "        \n",
    "        \n",
    "        while True:\n",
    "            mse = 0\n",
    "            # Para cada amostra\n",
    "            for xi, target in zip(x, d):\n",
    "                \n",
    "                predicted = self.predict(xi)  \n",
    "                current_error = self.evaluate(target, predicted)\n",
    "                mse += (current_error ** 2)\n",
    "                self.weights += self.lr * current_error * xi\n",
    "                self.w_bias += self.lr * current_error * self.bias\n",
    "                \n",
    "            mse = (mse/len(x))\n",
    "            print(f\"EPOCH: {epoch}\\t- MSE: {mse}\\t- MSE_ant - MSE: {abs(last_mse - mse)}\")\n",
    "            if abs(last_mse - mse) <= self.e:\n",
    "                break\n",
    "            \n",
    "            self.total_mse.append(mse)\n",
    "            last_mse = mse\n",
    "            epoch +=1\n",
    "            \n",
    "    def test(self, x):\n",
    "        ''' Dado uma lista de X, submete-os à rede'''\n",
    "        results = []\n",
    "        for xi in x:\n",
    "            predict = self.predict(xi)\n",
    "            predict = self.activation(predict)\n",
    "            results.append(predict)\n",
    "            \n",
    "        return results"
   ]
  },
  {
   "cell_type": "code",
   "execution_count": 43,
   "id": "d2354702",
   "metadata": {},
   "outputs": [
    {
     "name": "stdout",
     "output_type": "stream",
     "text": [
      "EPOCH: 0\t- MSE: 4.346615639168706\t- MSE_ant - MSE: inf\n",
      "EPOCH: 1\t- MSE: 1.6655685152252957\t- MSE_ant - MSE: 2.6810471239434106\n",
      "EPOCH: 2\t- MSE: 1.5801156464675312\t- MSE_ant - MSE: 0.08545286875776448\n",
      "EPOCH: 3\t- MSE: 1.508209973272824\t- MSE_ant - MSE: 0.0719056731947072\n",
      "EPOCH: 4\t- MSE: 1.4447502259658258\t- MSE_ant - MSE: 0.06345974730699822\n",
      "EPOCH: 5\t- MSE: 1.3868457471665607\t- MSE_ant - MSE: 0.05790447879926508\n",
      "EPOCH: 6\t- MSE: 1.332852155214283\t- MSE_ant - MSE: 0.05399359195227782\n",
      "EPOCH: 7\t- MSE: 1.2818336128084789\t- MSE_ant - MSE: 0.05101854240580406\n",
      "EPOCH: 8\t- MSE: 1.2332539459749605\t- MSE_ant - MSE: 0.04857966683351833\n",
      "EPOCH: 9\t- MSE: 1.1868001227395286\t- MSE_ant - MSE: 0.0464538232354319\n",
      "EPOCH: 10\t- MSE: 1.1422820555483553\t- MSE_ant - MSE: 0.04451806719117335\n",
      "EPOCH: 11\t- MSE: 1.099576242253508\t- MSE_ant - MSE: 0.04270581329484724\n",
      "EPOCH: 12\t- MSE: 1.0585944564568355\t- MSE_ant - MSE: 0.040981785796672554\n",
      "EPOCH: 13\t- MSE: 1.0192666521174218\t- MSE_ant - MSE: 0.03932780433941363\n",
      "EPOCH: 14\t- MSE: 0.9815318586772748\t- MSE_ant - MSE: 0.037734793440147074\n",
      "EPOCH: 15\t- MSE: 0.9453335102721151\t- MSE_ant - MSE: 0.036198348405159675\n",
      "EPOCH: 16\t- MSE: 0.9106171908439894\t- MSE_ant - MSE: 0.0347163194281257\n",
      "EPOCH: 17\t- MSE: 0.8773296606268173\t- MSE_ant - MSE: 0.03328753021717212\n",
      "EPOCH: 18\t- MSE: 0.8454185344761699\t- MSE_ant - MSE: 0.031911126150647395\n",
      "EPOCH: 19\t- MSE: 0.8148322691276035\t- MSE_ant - MSE: 0.030586265348566344\n",
      "EPOCH: 20\t- MSE: 0.7855202776159019\t- MSE_ant - MSE: 0.029311991511701607\n",
      "EPOCH: 21\t- MSE: 0.7574330785247609\t- MSE_ant - MSE: 0.02808719909114099\n",
      "EPOCH: 22\t- MSE: 0.7305224364676418\t- MSE_ant - MSE: 0.026910642057119127\n",
      "EPOCH: 23\t- MSE: 0.7047414760399121\t- MSE_ant - MSE: 0.025780960427729704\n",
      "EPOCH: 24\t- MSE: 0.6800447646131059\t- MSE_ant - MSE: 0.024696711426806184\n",
      "EPOCH: 25\t- MSE: 0.6563883655455517\t- MSE_ant - MSE: 0.023656399067554235\n",
      "EPOCH: 26\t- MSE: 0.6337298659116999\t- MSE_ant - MSE: 0.022658499633851803\n",
      "EPOCH: 27\t- MSE: 0.61202838351119\t- MSE_ant - MSE: 0.02170148240050984\n",
      "EPOCH: 28\t- MSE: 0.5912445576928227\t- MSE_ant - MSE: 0.020783825818367352\n",
      "EPOCH: 29\t- MSE: 0.571340527941055\t- MSE_ant - MSE: 0.019904029751767638\n",
      "EPOCH: 30\t- MSE: 0.5522799034895667\t- MSE_ant - MSE: 0.019060624451488373\n",
      "EPOCH: 31\t- MSE: 0.5340277265741102\t- MSE_ant - MSE: 0.01825217691545644\n",
      "EPOCH: 32\t- MSE: 0.5165504313670476\t- MSE_ant - MSE: 0.01747729520706265\n",
      "EPOCH: 33\t- MSE: 0.4998158001626073\t- MSE_ant - MSE: 0.016734631204440298\n",
      "EPOCH: 34\t- MSE: 0.48379291800085994\t- MSE_ant - MSE: 0.016022882161747354\n",
      "EPOCH: 35\t- MSE: 0.46845212661818586\t- MSE_ant - MSE: 0.01534079138267408\n",
      "EPOCH: 36\t- MSE: 0.45376497837902513\t- MSE_ant - MSE: 0.01468714823916073\n",
      "EPOCH: 37\t- MSE: 0.43970419066495997\t- MSE_ant - MSE: 0.01406078771406516\n",
      "EPOCH: 38\t- MSE: 0.4262436010612704\t- MSE_ant - MSE: 0.013460589603689566\n",
      "EPOCH: 39\t- MSE: 0.4133581235785189\t- MSE_ant - MSE: 0.012885477482751484\n",
      "EPOCH: 40\t- MSE: 0.4010237060697947\t- MSE_ant - MSE: 0.012334417508724216\n",
      "EPOCH: 41\t- MSE: 0.3892172889469331\t- MSE_ant - MSE: 0.011806417122861623\n",
      "EPOCH: 42\t- MSE: 0.3779167652565548\t- MSE_ant - MSE: 0.011300523690378261\n",
      "EPOCH: 43\t- MSE: 0.36710094214556965\t- MSE_ant - MSE: 0.010815823110985168\n",
      "EPOCH: 44\t- MSE: 0.35674950372300623\t- MSE_ant - MSE: 0.01035143842256342\n",
      "EPOCH: 45\t- MSE: 0.3468429753086105\t- MSE_ant - MSE: 0.00990652841439571\n",
      "EPOCH: 46\t- MSE: 0.3373626890469476\t- MSE_ant - MSE: 0.009480286261662918\n",
      "EPOCH: 47\t- MSE: 0.32829075085757814\t- MSE_ant - MSE: 0.009071938189369466\n",
      "EPOCH: 48\t- MSE: 0.3196100086863266\t- MSE_ant - MSE: 0.008680742171251532\n",
      "EPOCH: 49\t- MSE: 0.31130402201904367\t- MSE_ant - MSE: 0.008305986667282939\n",
      "EPOCH: 50\t- MSE: 0.30335703261707686\t- MSE_ant - MSE: 0.007946989401966809\n",
      "EPOCH: 51\t- MSE: 0.295753936432527\t- MSE_ant - MSE: 0.007603096184549851\n",
      "EPOCH: 52\t- MSE: 0.28848025666098104\t- MSE_ant - MSE: 0.007273679771545971\n",
      "EPOCH: 53\t- MSE: 0.28152211788958803\t- MSE_ant - MSE: 0.006958138771393008\n",
      "EPOCH: 54\t- MSE: 0.27486622129889915\t- MSE_ant - MSE: 0.006655896590688881\n",
      "EPOCH: 55\t- MSE: 0.2684998208777318\t- MSE_ant - MSE: 0.006366400421167373\n",
      "EPOCH: 56\t- MSE: 0.2624107006113396\t- MSE_ant - MSE: 0.0060891202663921895\n",
      "EPOCH: 57\t- MSE: 0.2565871526043112\t- MSE_ant - MSE: 0.00582354800702839\n",
      "EPOCH: 58\t- MSE: 0.2510179561008529\t- MSE_ant - MSE: 0.0055691965034582736\n",
      "EPOCH: 59\t- MSE: 0.24569235736636055\t- MSE_ant - MSE: 0.0053255987344923705\n",
      "EPOCH: 60\t- MSE: 0.24060005039548257\t- MSE_ant - MSE: 0.00509230697087798\n",
      "EPOCH: 61\t- MSE: 0.2357311584131425\t- MSE_ant - MSE: 0.0048688919823400845\n",
      "EPOCH: 62\t- MSE: 0.23107621613625917\t- MSE_ant - MSE: 0.004654942276883317\n",
      "EPOCH: 63\t- MSE: 0.2266261527651498\t- MSE_ant - MSE: 0.0044500633711093696\n",
      "EPOCH: 64\t- MSE: 0.22237227567480267\t- MSE_ant - MSE: 0.004253877090347136\n",
      "EPOCH: 65\t- MSE: 0.2183062547773909\t- MSE_ant - MSE: 0.0040660208974117595\n",
      "EPOCH: 66\t- MSE: 0.21442010752853913\t- MSE_ant - MSE: 0.003886147248851779\n",
      "EPOCH: 67\t- MSE: 0.21070618455095924\t- MSE_ant - MSE: 0.0037139229775798865\n",
      "EPOCH: 68\t- MSE: 0.2071571558501277\t- MSE_ant - MSE: 0.0035490287008315413\n",
      "EPOCH: 69\t- MSE: 0.20376599759771566\t- MSE_ant - MSE: 0.003391158252412041\n",
      "EPOCH: 70\t- MSE: 0.2005259794594607\t- MSE_ant - MSE: 0.0032400181382549464\n",
      "EPOCH: 71\t- MSE: 0.19743065244511876\t- MSE_ant - MSE: 0.003095327014341953\n",
      "EPOCH: 72\t- MSE: 0.1944738372590539\t- MSE_ant - MSE: 0.0029568151860648595\n",
      "EPOCH: 73\t- MSE: 0.19164961313089068\t- MSE_ant - MSE: 0.0028242241281632163\n",
      "EPOCH: 74\t- MSE: 0.1889523071065052\t- MSE_ant - MSE: 0.0026973060243854763\n",
      "EPOCH: 75\t- MSE: 0.18637648378042881\t- MSE_ant - MSE: 0.002575823326076393\n",
      "EPOCH: 76\t- MSE: 0.1839169354515227\t- MSE_ant - MSE: 0.0024595483289061026\n",
      "EPOCH: 77\t- MSE: 0.18156867268451765\t- MSE_ant - MSE: 0.0023482627670050604\n",
      "EPOCH: 78\t- MSE: 0.17932691526073602\t- MSE_ant - MSE: 0.002241757423781632\n",
      "EPOCH: 79\t- MSE: 0.17718708350198625\t- MSE_ant - MSE: 0.002139831758749766\n",
      "EPOCH: 80\t- MSE: 0.17514478995228816\t- MSE_ant - MSE: 0.002042293549698093\n",
      "EPOCH: 81\t- MSE: 0.17319583140270883\t- MSE_ant - MSE: 0.0019489585495793271\n",
      "EPOCH: 82\t- MSE: 0.1713361812452005\t- MSE_ant - MSE: 0.0018596501575083302\n",
      "EPOCH: 83\t- MSE: 0.16956198214190107\t- MSE_ant - MSE: 0.0017741991032994286\n",
      "EPOCH: 84\t- MSE: 0.16786953899692705\t- MSE_ant - MSE: 0.0016924431449740207\n",
      "EPOCH: 85\t- MSE: 0.16625531221820963\t- MSE_ant - MSE: 0.0016142267787174203\n",
      "EPOCH: 86\t- MSE: 0.16471591125744114\t- MSE_ant - MSE: 0.0015394009607684889\n",
      "EPOCH: 87\t- MSE: 0.16324808841669206\t- MSE_ant - MSE: 0.001467822840749089\n",
      "EPOCH: 88\t- MSE: 0.16184873291072052\t- MSE_ant - MSE: 0.0013993555059715335\n",
      "EPOCH: 89\t- MSE: 0.1605148651744568\t- MSE_ant - MSE: 0.001333867736263733\n",
      "EPOCH: 90\t- MSE: 0.15924363140556894\t- MSE_ant - MSE: 0.0012712337688878528\n",
      "EPOCH: 91\t- MSE: 0.15803229833243745\t- MSE_ant - MSE: 0.001211333073131482\n",
      "EPOCH: 92\t- MSE: 0.15687824819825802\t- MSE_ant - MSE: 0.0011540501341794351\n",
      "EPOCH: 93\t- MSE: 0.15577897395237839\t- MSE_ant - MSE: 0.0010992742458796334\n",
      "EPOCH: 94\t- MSE: 0.15473207464033537\t- MSE_ant - MSE: 0.0010468993120430203\n",
      "EPOCH: 95\t- MSE: 0.1537352509844147\t- MSE_ant - MSE: 0.000996823655920659\n",
      "EPOCH: 96\t- MSE: 0.1527863011468864\t- MSE_ant - MSE: 0.0009489498375283012\n",
      "EPOCH: 97\t- MSE: 0.15188311666839518\t- MSE_ant - MSE: 0.0009031844784912202\n",
      "EPOCH: 98\t- MSE: 0.15102367857429308\t- MSE_ant - MSE: 0.0008594380941021051\n",
      "EPOCH: 99\t- MSE: 0.15020605364199716\t- MSE_ant - MSE: 0.0008176249322959239\n",
      "EPOCH: 100\t- MSE: 0.14942839082273973\t- MSE_ant - MSE: 0.0007776628192574242\n",
      "EPOCH: 101\t- MSE: 0.14868891781135413\t- MSE_ant - MSE: 0.0007394730113856052\n",
      "EPOCH: 102\t- MSE: 0.14798593775799365\t- MSE_ant - MSE: 0.0007029800533604746\n",
      "EPOCH: 103\t- MSE: 0.1473178261159408\t- MSE_ant - MSE: 0.0006681116420528543\n",
      "EPOCH: 104\t- MSE: 0.1466830276198953\t- MSE_ant - MSE: 0.0006347984960455022\n",
      "EPOCH: 105\t- MSE: 0.14608005338936816\t- MSE_ant - MSE: 0.0006029742305271313\n",
      "EPOCH: 106\t- MSE: 0.14550747815202342\t- MSE_ant - MSE: 0.0005725752373447468\n",
      "EPOCH: 107\t- MSE: 0.14496393758202564\t- MSE_ant - MSE: 0.0005435405699977802\n",
      "EPOCH: 108\t- MSE: 0.14444812574865168\t- MSE_ant - MSE: 0.0005158118333739581\n",
      "EPOCH: 109\t- MSE: 0.14395879267062303\t- MSE_ant - MSE: 0.0004893330780286476\n",
      "EPOCH: 110\t- MSE: 0.14349474197179796\t- MSE_ant - MSE: 0.00046405069882507477\n",
      "EPOCH: 111\t- MSE: 0.14305482863404578\t- MSE_ant - MSE: 0.00043991333775217356\n",
      "EPOCH: 112\t- MSE: 0.142637956843296\t- MSE_ant - MSE: 0.0004168717907497843\n",
      "EPOCH: 113\t- MSE: 0.14224307792491814\t- MSE_ant - MSE: 0.00039487891837786115\n",
      "EPOCH: 114\t- MSE: 0.14186918836474985\t- MSE_ant - MSE: 0.000373889560168289\n",
      "EPOCH: 115\t- MSE: 0.14151532791223845\t- MSE_ant - MSE: 0.00035386045251140086\n",
      "EPOCH: 116\t- MSE: 0.1411805777623094\t- MSE_ant - MSE: 0.0003347501499290362\n",
      "EPOCH: 117\t- MSE: 0.14086405881271383\t- MSE_ant - MSE: 0.00031651894959558446\n",
      "EPOCH: 118\t- MSE: 0.1405649299937377\t- MSE_ant - MSE: 0.00029912881897611876\n",
      "EPOCH: 119\t- MSE: 0.14028238666729087\t- MSE_ant - MSE: 0.000282543326446838\n",
      "EPOCH: 120\t- MSE: 0.14001565909250677\t- MSE_ant - MSE: 0.0002667275747841036\n",
      "EPOCH: 121\t- MSE: 0.13976401095511207\t- MSE_ant - MSE: 0.00025164813739469993\n",
      "EPOCH: 122\t- MSE: 0.13952673795793047\t- MSE_ant - MSE: 0.0002372729971815979\n",
      "EPOCH: 123\t- MSE: 0.1393031664699959\t- MSE_ant - MSE: 0.0002235714879345596\n",
      "EPOCH: 124\t- MSE: 0.1390926522318578\t- MSE_ant - MSE: 0.00021051423813811532\n",
      "EPOCH: 125\t- MSE: 0.13889457911475298\t- MSE_ant - MSE: 0.0001980731171048189\n",
      "EPOCH: 126\t- MSE: 0.13870835793142222\t- MSE_ant - MSE: 0.00018622118333075366\n",
      "EPOCH: 127\t- MSE: 0.13853342529643722\t- MSE_ant - MSE: 0.00017493263498499778\n",
      "EPOCH: 128\t- MSE: 0.13836924253398947\t- MSE_ant - MSE: 0.00016418276244775654\n",
      "EPOCH: 129\t- MSE: 0.13821529463118284\t- MSE_ant - MSE: 0.00015394790280662263\n",
      "EPOCH: 130\t- MSE: 0.13807108923494665\t- MSE_ant - MSE: 0.0001442053962361911\n",
      "EPOCH: 131\t- MSE: 0.13793615569076656\t- MSE_ant - MSE: 0.00013493354418009362\n",
      "EPOCH: 132\t- MSE: 0.13781004412150316\t- MSE_ant - MSE: 0.0001261115692633985\n",
      "EPOCH: 133\t- MSE: 0.13769232454464253\t- MSE_ant - MSE: 0.00011771957686063095\n",
      "EPOCH: 134\t- MSE: 0.1375825860263855\t- MSE_ant - MSE: 0.00010973851825701875\n",
      "EPOCH: 135\t- MSE: 0.13748043587105502\t- MSE_ant - MSE: 0.00010215015533049376\n",
      "EPOCH: 136\t- MSE: 0.13738549884435813\t- MSE_ant - MSE: 9.493702669688409e-05\n",
      "EPOCH: 137\t- MSE: 0.13729741642910107\t- MSE_ant - MSE: 8.808241525706806e-05\n",
      "EPOCH: 138\t- MSE: 0.13721584611201534\t- MSE_ant - MSE: 8.157031708572182e-05\n",
      "EPOCH: 139\t- MSE: 0.1371404607004067\t- MSE_ant - MSE: 7.53854116086472e-05\n",
      "EPOCH: 140\t- MSE: 0.13707094766738928\t- MSE_ant - MSE: 6.95130330174154e-05\n",
      "EPOCH: 141\t- MSE: 0.13700700852452471\t- MSE_ant - MSE: 6.393914286456637e-05\n",
      "EPOCH: 142\t- MSE: 0.13694835822072837\t- MSE_ant - MSE: 5.865030379634262e-05\n",
      "EPOCH: 143\t- MSE: 0.13689472456635385\t- MSE_ant - MSE: 5.3633654374524165e-05\n",
      "EPOCH: 144\t- MSE: 0.13684584768141464\t- MSE_ant - MSE: 4.88768849392085e-05\n",
      "EPOCH: 145\t- MSE: 0.13680147946693888\t- MSE_ant - MSE: 4.436821447575956e-05\n",
      "EPOCH: 146\t- MSE: 0.13676138309850194\t- MSE_ant - MSE: 4.009636843693709e-05\n",
      "EPOCH: 147\t- MSE: 0.13672533254101202\t- MSE_ant - MSE: 3.605055748992503e-05\n",
      "EPOCH: 148\t- MSE: 0.13669311208387222\t- MSE_ant - MSE: 3.222045713979771e-05\n",
      "EPOCH: 149\t- MSE: 0.13666451589566975\t- MSE_ant - MSE: 2.8596188202473227e-05\n",
      "EPOCH: 150\t- MSE: 0.13663934759758306\t- MSE_ant - MSE: 2.5168298086686303e-05\n",
      "EPOCH: 151\t- MSE: 0.1366174198547302\t- MSE_ant - MSE: 2.192774285286747e-05\n",
      "EPOCH: 152\t- MSE: 0.13659855398471263\t- MSE_ant - MSE: 1.886587001756479e-05\n",
      "EPOCH: 153\t- MSE: 0.1365825795826402\t- MSE_ant - MSE: 1.5974402072432836e-05\n",
      "EPOCH: 154\t- MSE: 0.1365693341619533\t- MSE_ant - MSE: 1.3245420686897047e-05\n",
      "EPOCH: 155\t- MSE: 0.13655866281038398\t- MSE_ant - MSE: 1.0671351569319087e-05\n",
      "EPOCH: 156\t- MSE: 0.13655041786042876\t- MSE_ant - MSE: 8.244949955216185e-06\n",
      "EPOCH: 157\t- MSE: 0.13654445857372755\t- MSE_ant - MSE: 5.959286701218147e-06\n",
      "EPOCH: 158\t- MSE: 0.13654065083877143\t- MSE_ant - MSE: 3.8077349561183027e-06\n",
      "EPOCH: 159\t- MSE: 0.13653886688138475\t- MSE_ant - MSE: 1.783957386675139e-06\n",
      "EPOCH: 160\t- MSE: 0.13653898498744932\t- MSE_ant - MSE: 1.1810606456719164e-07\n"
     ]
    }
   ],
   "source": [
    "#Instanciando e treinando a rede\n",
    "rede = Adaline(lr = 0.01, e = 1e-6)\n",
    "rede.train(x = x, d = d)"
   ]
  },
  {
   "cell_type": "code",
   "execution_count": 44,
   "id": "13a3e459",
   "metadata": {},
   "outputs": [
    {
     "data": {
      "text/plain": [
       "[1, -1, -1, 1, -1, 1]"
      ]
     },
     "execution_count": 44,
     "metadata": {},
     "output_type": "execute_result"
    }
   ],
   "source": [
    "# Entrando com novos valores para teste\n",
    "x_teste = np.array([[6, 2], [9, 3], [5, 6], [7, 3], [6, 7], [1, 6]])\n",
    "\n",
    "teste_resultado = rede.test(x_teste)\n",
    "teste_resultado"
   ]
  },
  {
   "cell_type": "code",
   "execution_count": 45,
   "id": "6a329ded",
   "metadata": {},
   "outputs": [
    {
     "data": {
      "image/png": "[encoded data removed]",
      "text/plain": [
       "<Figure size 1200x800 with 1 Axes>"
      ]
     },
     "metadata": {},
     "output_type": "display_data"
    }
   ],
   "source": [
    "plt.figure(figsize=(12,8))\n",
    "plt.title(\"Data points + Predicted\")\n",
    "plt.scatter(x[:, 0], x[:, 1], c = d, cmap = 'bwr')\n",
    "plt.scatter(x_teste[:, 0], x_teste[:, 1], c = teste_resultado, cmap = 'bwr', marker = \"*\", s=250)\n",
    "plt.show()"
   ]
  },
  {
   "cell_type": "code",
   "execution_count": 46,
   "id": "c1744356",
   "metadata": {},
   "outputs": [
    {
     "data": {
      "image/png": "[encoded data removed]",
      "text/plain": [
       "<Figure size 800x500 with 1 Axes>"
      ]
     },
     "metadata": {},
     "output_type": "display_data"
    }
   ],
   "source": [
    "plt.figure(figsize=(8,5))\n",
    "plt.title(\"Error\")\n",
    "plt.plot(rede.total_mse)\n",
    "plt.show()"
   ]
  },
  {
   "cell_type": "code",
   "execution_count": null,
   "id": "e414d8a2",
   "metadata": {},
   "outputs": [],
   "source": []
  }
 ],
 "metadata": {
  "kernelspec": {
   "display_name": "Python 3 (ipykernel)",
   "language": "python",
   "name": "python3"
  },
  "language_info": {
   "codemirror_mode": {
    "name": "ipython",
    "version": 3
   },
   "file_extension": ".py",
   "mimetype": "text/x-python",
   "name": "python",
   "nbconvert_exporter": "python",
   "pygments_lexer": "ipython3",
   "version": "3.11.6"
  }
 },
 "nbformat": 4,
 "nbformat_minor": 5
}
