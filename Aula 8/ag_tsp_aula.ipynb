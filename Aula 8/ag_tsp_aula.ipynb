{
  "cells": [
    {
      "cell_type": "markdown",
      "metadata": {
        "id": "k7JEUbtpfWuk"
      },
      "source": [
        "## Problema"
      ]
    },
    {
      "cell_type": "code",
      "execution_count": 6,
      "metadata": {
        "id": "LBbOy1rsfWYh"
      },
      "outputs": [],
      "source": [
        "#Matriz de adjacência\n",
        "GRAPH = (\n",
        "    (0, 2, 8, 5),\n",
        "    (2, 0, 3, 4),\n",
        "    (8, 3, 0, 7),\n",
        "    (5, 3, 7, 0)\n",
        ")\n",
        "\n",
        "NON_ADJACENT_WEIGHT = 20\n",
        "\n",
        "def f(chromossome): #Custo para percorrer o grafo\n",
        "    route = Chromossome.get_fenotype(chromossome.get_genes())\n",
        "\n",
        "    total_weight = 0\n",
        "    total_vertex = len(GRAPH)\n",
        "\n",
        "    for i in range(total_vertex):\n",
        "        vertex = route[i]\n",
        "        next_vertex = route[i + 1]\n",
        "\n",
        "        edge_weight = GRAPH[vertex][next_vertex]\n",
        "\n",
        "        if edge_weight is None:\n",
        "            edge_weight = NON_ADJACENT_WEIGHT\n",
        "\n",
        "        total_weight += edge_weight # soma dos custos para percorrer as cidades\n",
        "\n",
        "    return total_weight\n",
        "\n",
        "def g(chromossome):\n",
        "    return 1 / (f(chromossome) + 1)\n",
        "\n",
        "def f_average(population):\n",
        "    avg = 0\n",
        "\n",
        "    for chr in population:\n",
        "        avg += f(chr)\n",
        "\n",
        "    avg /= len(population)\n",
        "    return avg\n",
        "\n",
        "def g_average(population):\n",
        "    avg = 0\n",
        "\n",
        "    for chr in population:\n",
        "        avg += g(chr)\n",
        "\n",
        "    avg /= len(population)\n",
        "    return avg    \n"
      ]
    },
    {
      "cell_type": "markdown",
      "metadata": {
        "id": "oLPcEi2TetAd"
      },
      "source": [
        "## Chromossome"
      ]
    },
    {
      "cell_type": "code",
      "execution_count": 7,
      "metadata": {
        "id": "LnoJsc5DepFA"
      },
      "outputs": [],
      "source": [
        "import random\n",
        "\n",
        "class Chromossome:\n",
        "    def __init__(self, route = None):\n",
        "        genes = route\n",
        "        genes_length = len(GRAPH) - 1\n",
        "\n",
        "        if genes is None:\n",
        "            aux = [i + 1 for i in range(genes_length)]\n",
        "            genes = random.sample(aux, genes_length)\n",
        "        else:\n",
        "            genes = Chromossome.get_genotype(route)\n",
        "\n",
        "        self.__genes = genes\n",
        "\n",
        "    def get_genes(self):\n",
        "        return self.__genes\n",
        "\n",
        "    def set_genes(self, genes):\n",
        "        self.__genes = genes\n",
        "\n",
        "    def to_string(self):\n",
        "        chr_str = \"G = [\" + \", \".join(map(str, self.__genes)) + \"], F = [\" + \", \".join(map(str, Chromossome.get_fenotype(self.__genes))) + \"]\"\n",
        "        return chr_str\n",
        "\n",
        "    @staticmethod\n",
        "    def get_genotype(route):\n",
        "        return route[1:len(GRAPH)] #O genótipo são os vértices\n",
        "\n",
        "    @staticmethod\n",
        "    def get_fenotype(genes):\n",
        "        #O fenótipo é o caminho dentro do grafo\n",
        "        total_vertex = len(GRAPH)\n",
        "\n",
        "        route = [0] * (total_vertex + 1)\n",
        "        route[1:total_vertex] = genes\n",
        "\n",
        "        return route\n",
        "    "
      ]
    },
    {
      "cell_type": "markdown",
      "metadata": {
        "id": "9e6Nm3E3kwvw"
      },
      "source": [
        "## Operators"
      ]
    },
    {
      "cell_type": "code",
      "execution_count": 8,
      "metadata": {
        "id": "5g5mJv4qky6b"
      },
      "outputs": [],
      "source": [
        "K_TOURNAMENT = 3\n",
        "MUTATION_PROBABILITY = 1.00\n",
        "\n",
        "import random\n",
        "\n",
        "def selection(population):\n",
        "    # Tournament selection without selective pressure\n",
        "\n",
        "    parents = []\n",
        "    while len(parents) != 2:\n",
        "        tournament_individuals = []\n",
        "\n",
        "        for _ in range(K_TOURNAMENT):\n",
        "            individual = random.choice(population)\n",
        "\n",
        "            if not individual in tournament_individuals:\n",
        "                tournament_individuals.append(individual)\n",
        "\n",
        "        parent = parent_fitness = None\n",
        "        for individual in tournament_individuals:\n",
        "            individual_fitness = g(individual)\n",
        "\n",
        "            if parent is None or individual_fitness > parent_fitness:\n",
        "                parent = individual\n",
        "                parent_fitness = individual_fitness\n",
        "\n",
        "        if parent not in parents:\n",
        "            parents.append(parent)\n",
        "\n",
        "    print(f\"1st parent chosen for crossover: {format_chromossome(parents[0])}\")\n",
        "    print(f\"2nd parent chosen for crossover: {format_chromossome(parents[1])}\")\n",
        "\n",
        "    return parents\n",
        "\n",
        "def crossover(population, parent1, parent2):\n",
        "    # Order crossover\n",
        "    # http://mat.uab.cat/~alseda/MasterOpt/GeneticOperations.pdf\n",
        "\n",
        "    parent1_genes = parent1.get_genes()\n",
        "    parent2_genes = parent2.get_genes()\n",
        "\n",
        "    genes_length = len(parent1_genes)\n",
        "\n",
        "    child1_genes = [None] * genes_length\n",
        "    child2_genes = [None] * genes_length\n",
        "\n",
        "    parent1_subset_start = random.randint(0, genes_length - 1)\n",
        "    parent2_subset_start = random.randint(0, genes_length - 1)\n",
        "\n",
        "    parent1_subset_end = random.randint(parent1_subset_start + 1, genes_length)\n",
        "    parent2_subset_end = random.randint(parent2_subset_start + 1, genes_length)\n",
        "\n",
        "    print(f\"1st parent subset indexes: {parent1_subset_start} (inclusive) to {parent1_subset_end} (exclusive)\")\n",
        "    print(f\"2nd parent subset indexes: {parent2_subset_start} (inclusive) to {parent2_subset_end} (exclusive)\")\n",
        "\n",
        "    child1_genes[parent1_subset_start:parent1_subset_end] = parent1_genes[parent1_subset_start:parent1_subset_end]\n",
        "    child2_genes[parent2_subset_start:parent2_subset_end] = parent2_genes[parent2_subset_start:parent2_subset_end]\n",
        "\n",
        "    parent1_next_index = parent2_next_index = 0\n",
        "    for i in range(genes_length):\n",
        "        if child1_genes[i] is None:\n",
        "            for k in range(parent2_next_index, genes_length):\n",
        "                gene = parent2_genes[k]\n",
        "                if gene in child1_genes:\n",
        "                    continue\n",
        "    \n",
        "                child1_genes[i] = gene\n",
        "                parent2_next_index = k + 1\n",
        "\n",
        "                break\n",
        "\n",
        "        if child2_genes[i] is None:\n",
        "            for k in range(parent1_next_index, genes_length):\n",
        "                gene = parent1_genes[k]\n",
        "                if gene in child2_genes:\n",
        "                    continue\n",
        "\n",
        "                child2_genes[i] = gene\n",
        "                parent1_next_index = k + 1\n",
        "\n",
        "                break\n",
        "                \n",
        "    child1 = Chromossome()\n",
        "    child1.set_genes(child1_genes)\n",
        "    print(f\"1st child generated from crossover: {format_chromossome(child1)}\")\n",
        "\n",
        "    child2 = Chromossome()\n",
        "    child2.set_genes(child2_genes)\n",
        "    print(f\"2nd child generated from crossover: {format_chromossome(child2)}\")\n",
        "\n",
        "    population.append(child1)\n",
        "    population.append(child2)\n",
        "\n",
        "def mutation(population):\n",
        "    # Swap mutation (avoid illegal genotype)\n",
        "\n",
        "    prob = random.uniform(0, 1)\n",
        "\n",
        "    if prob >= MUTATION_PROBABILITY:\n",
        "        return\n",
        "\n",
        "    target = random.choice(population)\n",
        "\n",
        "    genes = target.get_genes()\n",
        "\n",
        "    genes_length = len(genes)\n",
        "\n",
        "    mutation_point_1 = mutation_point_2 = -1\n",
        "    while mutation_point_1 == mutation_point_2:\n",
        "        mutation_point_1 = random.choice(range(genes_length))\n",
        "        mutation_point_2 = random.choice(range(genes_length))\n",
        "\n",
        "    print(f\"Invididual {target.to_string()} will mutate at points ({mutation_point_1}, {mutation_point_2})\")\n",
        "\n",
        "    genes[mutation_point_1], genes[mutation_point_2] = genes[mutation_point_2], genes[mutation_point_1]\n",
        "\n",
        "    print(f\"Individual {target.to_string()} mutated at points ({mutation_point_1}, {mutation_point_2})\")\n",
        "\n",
        "def elitism(population):\n",
        "    for _ in range(2):\n",
        "        worst_individual = find_worst_chromossome(population)\n",
        "        print(f\"Removing worst individual from population: {format_chromossome(worst_individual)}\")\n",
        "        population.remove(worst_individual)"
      ]
    },
    {
      "cell_type": "markdown",
      "metadata": {
        "id": "qGMqX-vnkzSN"
      },
      "source": [
        "## Utils"
      ]
    },
    {
      "cell_type": "code",
      "execution_count": 9,
      "metadata": {
        "id": "ckHJrHpak1yi"
      },
      "outputs": [],
      "source": [
        "def find_best_chromossome(population):\n",
        "    best_chromossome = None\n",
        "\n",
        "    for chromossome in population:\n",
        "        score = g(chromossome)\n",
        "\n",
        "        if best_chromossome is None or score > g(best_chromossome):\n",
        "            best_chromossome = chromossome\n",
        "\n",
        "    return best_chromossome\n",
        "\n",
        "def find_worst_chromossome(population):\n",
        "    worst_chromossome = None\n",
        "\n",
        "    for chromossome in population:\n",
        "        score = g(chromossome)\n",
        "\n",
        "        if worst_chromossome is None or score < g(worst_chromossome):\n",
        "            worst_chromossome = chromossome\n",
        "\n",
        "    return worst_chromossome\n",
        "\n",
        "def format_chromossome(chromossome):\n",
        "    return f\"{chromossome.to_string()}, Score = {g(chromossome):.3f}\""
      ]
    },
    {
      "cell_type": "markdown",
      "metadata": {
        "id": "Ew9_-E_9nMv0"
      },
      "source": [
        "## Main"
      ]
    },
    {
      "cell_type": "code",
      "execution_count": null,
      "metadata": {
        "colab": {
          "base_uri": "https://localhost:8080/",
          "height": 1000
        },
        "id": "F3xDy7uCnNhy",
        "outputId": "ce61361b-71f8-4703-84da-c2b2423324ab"
      },
      "outputs": [],
      "source": []
    }
  ],
  "metadata": {
    "colab": {
      "name": "TSP GA L1.ipynb",
      "provenance": []
    },
    "kernelspec": {
      "display_name": "Python 3",
      "name": "python3"
    },
    "language_info": {
      "codemirror_mode": {
        "name": "ipython",
        "version": 3
      },
      "file_extension": ".py",
      "mimetype": "text/x-python",
      "name": "python",
      "nbconvert_exporter": "python",
      "pygments_lexer": "ipython3",
      "version": "3.10.11"
    }
  },
  "nbformat": 4,
  "nbformat_minor": 0
}
