{
 "cells": [
  {
   "cell_type": "markdown",
   "id": "66c64000",
   "metadata": {},
   "source": [
    "# Lógica Fuzzy"
   ]
  },
  {
   "cell_type": "markdown",
   "id": "d5ab3eb9",
   "metadata": {},
   "source": [
    "* Grau de pertinência: o quanto um elemento 'x' pertence a um conjunto 'A'\n",
    "* Variável: rótulo associado a uma variável linguística\n",
    "* Conjunto de termos: nomes dados aos valores de cada variável\n",
    "* Universo de discurso: domínio em que cada variável é definida"
   ]
  },
  {
   "cell_type": "markdown",
   "id": "f8b4fdb0",
   "metadata": {},
   "source": [
    "![1](imagens/img1.jpg)"
   ]
  },
  {
   "cell_type": "markdown",
   "id": "d24c1a19",
   "metadata": {},
   "source": [
    "## Funcionamento de um sistema fuzzy"
   ]
  },
  {
   "cell_type": "markdown",
   "id": "e9c3db3c",
   "metadata": {},
   "source": [
    "![1](imagens/img4.jpg)"
   ]
  },
  {
   "cell_type": "markdown",
   "id": "e820091d",
   "metadata": {},
   "source": [
    "## Problema da gorjeta"
   ]
  },
  {
   "cell_type": "markdown",
   "id": "a9525e38",
   "metadata": {},
   "source": [
    "![1](imagens/img2.jpg)"
   ]
  },
  {
   "cell_type": "code",
   "execution_count": null,
   "id": "bc13b6ab",
   "metadata": {},
   "outputs": [],
   "source": [
    "#!pip install scikit-fuzzy\n",
    "\n",
    "import numpy as np\n",
    "import skfuzzy as fuzzy\n",
    "import skfuzzy.control as control"
   ]
  },
  {
   "cell_type": "markdown",
   "id": "aa0b8a89",
   "metadata": {},
   "source": [
    "## Criando o Antescendent (Entrada de dados)"
   ]
  },
  {
   "cell_type": "code",
   "execution_count": null,
   "id": "1df039cd",
   "metadata": {},
   "outputs": [],
   "source": [
    "# Definindo universo de discurso e nome da variável\n",
    "universo = np.arange(0, 11)\n",
    "\n",
    "qualidade = control.Antecedent(universe = universo, label = \"qualidade\")\n",
    "servico = control.Antecedent(universe = universo, label = \"servico\")\n",
    "\n",
    "# Criando função de pertinência triangular -> trimf, trapezoidal -> trapmf\n",
    "qualidade[\"ruim\"] = fuzzy.trapmf(qualidade.universe, [0, 0, 2, 5])\n",
    "qualidade[\"bom\"] = fuzzy.trimf(qualidade.universe, [3, 5, 7])\n",
    "qualidade[\"excelente\"] = fuzzy.trapmf(qualidade.universe, [5, 8, 10, 10])\n",
    "\n",
    "servico[\"ruim\"] = fuzzy.trapmf(servico.universe, [0, 0, 2, 5])\n",
    "servico[\"bom\"] = fuzzy.trimf(servico.universe, [3, 5, 7])\n",
    "servico[\"excelente\"] = fuzzy.trapmf(servico.universe, [5, 8, 10, 10])\n",
    "\n",
    "qualidade.view()\n",
    "servico.view()"
   ]
  },
  {
   "cell_type": "markdown",
   "id": "f67af09e",
   "metadata": {},
   "source": [
    "## Criando consequent (Saída de dados)"
   ]
  },
  {
   "cell_type": "code",
   "execution_count": null,
   "id": "d16735ec",
   "metadata": {},
   "outputs": [],
   "source": [
    "# Universo da gorjeta\n",
    "universo_gorjeta = np.arange(0, 21)\n",
    "\n",
    "gorjeta = control.Consequent(universe = universo_gorjeta, label = \"gorjeta\")\n",
    "\n",
    "gorjeta[\"pequena\"] = fuzzy.trapmf(gorjeta.universe, [0, 0, 5, 8])\n",
    "gorjeta[\"razoável\"] = fuzzy.trimf(gorjeta.universe, [5, 10, 15])\n",
    "gorjeta[\"generosa\"] = fuzzy.trapmf(gorjeta.universe, [10, 15, 20, 20])\n",
    "\n",
    "gorjeta.view()"
   ]
  },
  {
   "cell_type": "markdown",
   "id": "bc2d6b67",
   "metadata": {},
   "source": [
    "## Conjunto de Regras"
   ]
  },
  {
   "cell_type": "markdown",
   "id": "f7e8ae3c",
   "metadata": {},
   "source": [
    "![1](imagens/img3.jpg)"
   ]
  },
  {
   "cell_type": "code",
   "execution_count": null,
   "id": "83e49b24",
   "metadata": {},
   "outputs": [],
   "source": [
    "regra1 = control.Rule(servico[\"ruim\"] | qualidade[\"ruim\"], gorjeta[\"pequena\"])\n",
    "regra2 = control.Rule(servico[\"bom\"], gorjeta[\"razoável\"])\n",
    "regra3 = control.Rule(servico[\"excelente\"] | qualidade[\"excelente\"], gorjeta[\"generosa\"])\n",
    "\n",
    "# Adicionando regras ao controle\n",
    "gorjeta_controle = control.ControlSystem([regra1, regra2, regra3])"
   ]
  },
  {
   "cell_type": "markdown",
   "id": "1354fa7a",
   "metadata": {},
   "source": [
    "## Criando o sistema"
   ]
  },
  {
   "cell_type": "code",
   "execution_count": null,
   "id": "db4584c3",
   "metadata": {
    "scrolled": true
   },
   "outputs": [],
   "source": [
    "# Criando sistema com o controle de gorjeta\n",
    "sistema = control.ControlSystemSimulation(gorjeta_controle)\n",
    "\n",
    "sistema.input[\"qualidade\"] = 9\n",
    "sistema.input[\"servico\"] = 1\n",
    "\n",
    "# Executando o sistema\n",
    "sistema.compute()\n",
    "\n",
    "print(f\"Resultado 'desfuzzificado': {sistema.output['gorjeta']}\")\n",
    "\n",
    "gorjeta.view(sim = sistema)"
   ]
  },
  {
   "cell_type": "code",
   "execution_count": null,
   "id": "33d21f00",
   "metadata": {},
   "outputs": [],
   "source": []
  }
 ],
 "metadata": {
  "kernelspec": {
   "display_name": "Python 3 (ipykernel)",
   "language": "python",
   "name": "python3"
  },
  "language_info": {
   "codemirror_mode": {
    "name": "ipython",
    "version": 3
   },
   "file_extension": ".py",
   "mimetype": "text/x-python",
   "name": "python",
   "nbconvert_exporter": "python",
   "pygments_lexer": "ipython3",
   "version": "3.10.11"
  }
 },
 "nbformat": 4,
 "nbformat_minor": 5
}
