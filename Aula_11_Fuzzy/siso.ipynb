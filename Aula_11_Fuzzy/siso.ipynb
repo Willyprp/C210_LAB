{
 "cells": [
  {
   "cell_type": "markdown",
   "id": "85003877",
   "metadata": {},
   "source": [
    "# Lógica Fuzzy - Parte 2"
   ]
  },
  {
   "cell_type": "markdown",
   "id": "a47a408b",
   "metadata": {},
   "source": [
    "## Sistema SISO"
   ]
  },
  {
   "cell_type": "markdown",
   "id": "9511f9b7",
   "metadata": {},
   "source": [
    "![1](imagens/1.png)"
   ]
  },
  {
   "cell_type": "code",
   "execution_count": null,
   "id": "4382c0f4",
   "metadata": {},
   "outputs": [],
   "source": [
    "#!pip install scikit-fuzzy\n",
    "\n",
    "import numpy as np\n",
    "import skfuzzy as fuzzy\n",
    "import skfuzzy.control as control"
   ]
  },
  {
   "cell_type": "markdown",
   "id": "af0b54b6",
   "metadata": {},
   "source": [
    "## Criando o Antescendent (Entrada de dados)"
   ]
  },
  {
   "cell_type": "code",
   "execution_count": null,
   "id": "bcefbc0d",
   "metadata": {},
   "outputs": [],
   "source": [
    "# Definindo universo de discurso e nome da variável\n",
    "universo = np.arange(0, 9001)\n",
    "\n",
    "salario = control.Antecedent(universe = universo, label = \"salario\")\n",
    "\n",
    "# Criando função de pertinência triangular -> trimf, trapezoidal -> trapmf\n",
    "salario[\"muito_baixo\"] = fuzzy.trapmf(salario.universe, [0, 0, 500, 2000])\n",
    "salario[\"baixo\"] = fuzzy.trimf(salario.universe, [500, 2000, 4000])\n",
    "salario[\"medio\"] = fuzzy.trimf(salario.universe, [2000, 4000, 6000])\n",
    "salario[\"alto\"] = fuzzy.trimf(salario.universe, [4000, 6000, 8000])\n",
    "salario[\"muito_alto\"] = fuzzy.trapmf(salario.universe, [6000, 8000, 9000, 9000])\n",
    "\n",
    "\n",
    "salario.view()"
   ]
  },
  {
   "cell_type": "markdown",
   "id": "ff9b33f9",
   "metadata": {},
   "source": [
    "## Criando consequent (Saída de dados)"
   ]
  },
  {
   "cell_type": "code",
   "execution_count": null,
   "id": "2bc59ce6",
   "metadata": {},
   "outputs": [],
   "source": [
    "# Universo do imposto\n",
    "universo_imposto = np.arange(0, 801)\n",
    "\n",
    "imposto = control.Consequent(universe = universo_imposto, label = \"imposto\")\n",
    "\n",
    "imposto[\"muito_baixo\"] = fuzzy.trapmf(imposto.universe, [0, 0, 100, 200])\n",
    "imposto[\"baixo\"] = fuzzy.trimf(imposto.universe, [100, 200, 300])\n",
    "imposto[\"medio\"] = fuzzy.trimf(imposto.universe, [200, 300, 400])\n",
    "imposto[\"alto\"] = fuzzy.trimf(imposto.universe, [300, 400, 500])\n",
    "imposto[\"muito_alto\"] = fuzzy.trapmf(imposto.universe, [400, 600, 800, 800])\n",
    "\n",
    "imposto.view()"
   ]
  },
  {
   "cell_type": "markdown",
   "id": "d12a50d6",
   "metadata": {},
   "source": [
    "## Conjunto de Regras"
   ]
  },
  {
   "cell_type": "code",
   "execution_count": null,
   "id": "9165d089",
   "metadata": {},
   "outputs": [],
   "source": [
    "regra1 = control.Rule(salario[\"muito_baixo\"], imposto[\"muito_baixo\"])\n",
    "regra2 = control.Rule(salario[\"baixo\"], imposto[\"baixo\"])\n",
    "regra3 = control.Rule(salario[\"medio\"], imposto[\"medio\"])\n",
    "regra4 = control.Rule(salario[\"alto\"], imposto[\"alto\"])\n",
    "regra5 = control.Rule(salario[\"muito_alto\"], imposto[\"muito_alto\"])\n",
    "\n",
    "# Adicionando regras ao controle\n",
    "imposto_controle = control.ControlSystem([regra1, regra2, regra3, regra4, regra5])"
   ]
  },
  {
   "cell_type": "markdown",
   "id": "2cbbee55",
   "metadata": {},
   "source": [
    "## Criando o sistema"
   ]
  },
  {
   "cell_type": "code",
   "execution_count": null,
   "id": "e8fd1d5d",
   "metadata": {},
   "outputs": [],
   "source": [
    "# Criando sistema com o controle de imposto\n",
    "sistema = control.ControlSystemSimulation(imposto_controle)\n",
    "\n",
    "sistema.input[\"salario\"] = 2567\n",
    "\n",
    "# Executando o sistema\n",
    "sistema.compute()\n",
    "\n",
    "print(f\"Resultado 'desfuzzificado': {sistema.output['imposto']}\")\n",
    "\n",
    "imposto.view(sim = sistema)"
   ]
  },
  {
   "cell_type": "code",
   "execution_count": null,
   "id": "cae5ef47",
   "metadata": {},
   "outputs": [],
   "source": []
  }
 ],
 "metadata": {
  "kernelspec": {
   "display_name": "Python 3 (ipykernel)",
   "language": "python",
   "name": "python3"
  },
  "language_info": {
   "codemirror_mode": {
    "name": "ipython",
    "version": 3
   },
   "file_extension": ".py",
   "mimetype": "text/x-python",
   "name": "python",
   "nbconvert_exporter": "python",
   "pygments_lexer": "ipython3",
   "version": "3.10.11"
  }
 },
 "nbformat": 4,
 "nbformat_minor": 5
}
